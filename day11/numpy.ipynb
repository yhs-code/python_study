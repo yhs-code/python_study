{
 "cells": [
  {
   "cell_type": "code",
   "execution_count": 13,
   "outputs": [
    {
     "name": "stdout",
     "output_type": "stream",
     "text": [
      "[1, 2, 3, 4, 5]\n",
      "<class 'list'>\n"
     ]
    }
   ],
   "source": [
    "import numpy as np\n",
    "\n",
    "# 列表转ndarray\n",
    "list1 = [1, 2, 3, 4, 5]\n",
    "print(list1)\n",
    "print(type(list1))"
   ],
   "metadata": {
    "collapsed": false,
    "pycharm": {
     "name": "#%%\n"
    }
   }
  },
  {
   "cell_type": "code",
   "execution_count": 4,
   "outputs": [
    {
     "name": "stdout",
     "output_type": "stream",
     "text": [
      "[1 2 3 4 5]\n",
      "<class 'numpy.ndarray'>\n"
     ]
    }
   ],
   "source": [
    "oneArrary = np.array(list1)\n",
    "print(oneArrary)\n",
    "print(type(oneArrary))\n"
   ],
   "metadata": {
    "collapsed": false,
    "pycharm": {
     "name": "#%%oneArrary = np.arrray(list1)\n"
    }
   }
  },
  {
   "cell_type": "markdown",
   "source": [
    "# ndarray与python原生list运算效率对比"
   ],
   "metadata": {
    "collapsed": false,
    "pycharm": {
     "name": "#%% md\n"
    }
   }
  },
  {
   "cell_type": "code",
   "execution_count": 8,
   "outputs": [
    {
     "name": "stdout",
     "output_type": "stream",
     "text": [
      "随机完毕\n"
     ]
    }
   ],
   "source": [
    "import random\n",
    "import time\n",
    "import numpy as np\n",
    "\n",
    "# 随机1亿个数据\n",
    "a = [random.random() for i in range(10 ** 8)]\n",
    "print(\"随机完毕\")"
   ],
   "metadata": {
    "collapsed": false,
    "pycharm": {
     "name": "#%%\n"
    }
   }
  },
  {
   "cell_type": "code",
   "execution_count": 9,
   "outputs": [
    {
     "name": "stdout",
     "output_type": "stream",
     "text": [
      "转为ndarray完毕\n"
     ]
    }
   ],
   "source": [
    "b = np.array(a)  # 转换为ndarray\n",
    "print(\"转为ndarray完毕\")"
   ],
   "metadata": {
    "collapsed": false,
    "pycharm": {
     "name": "#%%b = np.array(a) # 转为ndarray\n"
    }
   }
  },
  {
   "cell_type": "code",
   "execution_count": 10,
   "outputs": [
    {
     "name": "stdout",
     "output_type": "stream",
     "text": [
      "python原生list的计算时间: 0.3562180995941162\n",
      "ndarray的计算时间: 0.11182880401611328\n"
     ]
    }
   ],
   "source": [
    "# ndarray的计算效率要比python原生list高很多\n",
    "start_time = time.time()\n",
    "sum1 = sum(a)\n",
    "end_time = time.time()\n",
    "print(\"python原生list的计算时间:\", end_time - start_time)\n",
    "\n",
    "start_time = time.time()\n",
    "sum2 = np.sum(b)\n",
    "end_time = time.time()\n",
    "print(\"ndarray的计算时间:\", end_time - start_time)"
   ],
   "metadata": {
    "collapsed": false,
    "pycharm": {
     "name": "#%%# ndarray的计算\n"
    }
   }
  },
  {
   "cell_type": "code",
   "execution_count": 12,
   "outputs": [
    {
     "name": "stdout",
     "output_type": "stream",
     "text": [
      "<class 'range'>\n",
      "[0 1 2 3 4 5 6 7 8 9]\n",
      "<class 'numpy.ndarray'>\n"
     ]
    }
   ],
   "source": [
    "print(type(range(10)))\n",
    "t2 = np.array(range(10))\n",
    "print(t2)\n",
    "print(type(t2))"
   ],
   "metadata": {
    "collapsed": false,
    "pycharm": {
     "name": "#%%print(type(range(10))\n"
    }
   }
  },
  {
   "cell_type": "code",
   "execution_count": 15,
   "outputs": [
    {
     "name": "stdout",
     "output_type": "stream",
     "text": [
      "[0 2 4 6 8]\n",
      "<class 'numpy.ndarray'>\n"
     ]
    }
   ],
   "source": [
    "t3 = np.array(range(0, 10, 2))\n",
    "print(t3)\n",
    "print(type(t3))"
   ],
   "metadata": {
    "collapsed": false,
    "pycharm": {
     "name": "#%%\n"
    }
   }
  },
  {
   "cell_type": "code",
   "execution_count": 17,
   "outputs": [
    {
     "name": "stdout",
     "output_type": "stream",
     "text": [
      "<class 'numpy.ndarray'>\n",
      "[[1 2]\n",
      " [3 4]\n",
      " [5 6]]\n",
      "[[1, 2], [3, 4], [5, 6]]\n"
     ]
    }
   ],
   "source": [
    "# 二维列表转ndarray\n",
    "import numpy as np\n",
    "\n",
    "list2 = [[1, 2], [3, 4], [5, 6]]\n",
    "twoArray = np.array(list2)\n",
    "print(type(twoArray))\n",
    "print(twoArray)\n",
    "print(list2)"
   ],
   "metadata": {
    "collapsed": false,
    "pycharm": {
     "name": "#%% md# md\n"
    }
   }
  },
  {
   "cell_type": "code",
   "execution_count": 18,
   "outputs": [
    {
     "data": {
      "text/plain": "[[1, 2], [3, 4], [5, 6]]"
     },
     "execution_count": 18,
     "metadata": {},
     "output_type": "execute_result"
    }
   ],
   "source": [
    "twoArray.tolist()  # ndarray转换为列表"
   ],
   "metadata": {
    "collapsed": false,
    "pycharm": {
     "name": "#%%\n"
    }
   }
  },
  {
   "cell_type": "markdown",
   "source": [
    "# 4.3 常用属性"
   ],
   "metadata": {
    "collapsed": false,
    "pycharm": {
     "name": "#%% md\n"
    }
   }
  },
  {
   "cell_type": "code",
   "execution_count": 21,
   "outputs": [
    {
     "name": "stdout",
     "output_type": "stream",
     "text": [
      "2\n",
      "(3, 2)\n",
      "6\n",
      "int32\n"
     ]
    }
   ],
   "source": [
    "# 看ndarray的各种属性\n",
    "list2 = [[1, 2], [3, 4], [5, 6]]\n",
    "\n",
    "twoArray = np.array(list2)\n",
    "\n",
    "# 获取数组的维度\n",
    "print(twoArray.ndim)\n",
    "\n",
    "# 获取数组的形状\n",
    "print(twoArray.shape)\n",
    "\n",
    "# 获取数组的元素总数\n",
    "print(twoArray.size)\n",
    "\n",
    "# 获取数组的元素类型\n",
    "print(twoArray.dtype)  # 默认int32,4字节,数据范围[-2147483648, 2147483647]\n"
   ],
   "metadata": {
    "collapsed": false,
    "pycharm": {
     "name": "#%%\n"
    }
   }
  },
  {
   "cell_type": "markdown",
   "source": [
    "# 4.4 调整数组的形状"
   ],
   "metadata": {
    "collapsed": false,
    "pycharm": {
     "name": "#%% md\n"
    }
   }
  },
  {
   "cell_type": "code",
   "execution_count": 26,
   "outputs": [
    {
     "name": "stdout",
     "output_type": "stream",
     "text": [
      "[[1 2 3]\n",
      " [4 5 6]]\n",
      "----------------------------------------------------------------------------------------------------\n",
      "2666251661456\n",
      "----------------------------------------------------------------------------------------------------\n",
      "[[1 2]\n",
      " [3 4]\n",
      " [5 6]]\n",
      "2666251661456\n",
      "2666251661456\n",
      "----------------------------------------------------------------------------------------------------\n",
      "2666251661456\n",
      "2669291337456\n",
      "[[1 2 3]\n",
      " [4 5 6]]\n"
     ]
    }
   ],
   "source": [
    "four = np.array([[1, 2, 3], [4, 5, 6]])\n",
    "print(four)\n",
    "print(\"-\" * 100)\n",
    "# ndarray也是可变数据类型\n",
    "four1 = four\n",
    "print(id(four1))\n",
    "print(\"-\" * 100)\n",
    "four.shape = (3, 2)  # 改变数组的形状\n",
    "print(four)\n",
    "print(id(four))\n",
    "print(id(four1))  # 数组的id不变\n",
    "print(\"-\" * 100)\n",
    "\n",
    "# 返回一个新数组，reshape后id和之前的不一样\n",
    "four2 = four.reshape(2, 3)\n",
    "print(id(four))\n",
    "print(id(four2))\n",
    "print(four2)"
   ],
   "metadata": {
    "collapsed": false,
    "pycharm": {
     "name": "#%%\n"
    }
   }
  },
  {
   "cell_type": "code",
   "execution_count": 30,
   "outputs": [
    {
     "name": "stdout",
     "output_type": "stream",
     "text": [
      "[1 2 3 4 5 6]\n",
      "<class 'numpy.ndarray'>\n",
      "----------------------------------------------------------------------------------------------------\n",
      "[1 2 3 4 5 6]\n",
      "<class 'numpy.ndarray'>\n",
      "----------------------------------------------------------------------------------------------------\n",
      "[[1 2]\n",
      " [3 4]\n",
      " [5 6]]\n"
     ]
    }
   ],
   "source": [
    "# 将多维编程一维数组\n",
    "five = four.reshape((6,), order='C')  # order='C'表示按行优先，'F'表示按列优先\n",
    "\n",
    "six = four.flatten()  # 展平数组\n",
    "print(five)\n",
    "print(type(five))\n",
    "print(\"-\" * 100)\n",
    "print(six)\n",
    "print(type(six))\n",
    "print(\"-\" * 100)\n",
    "\n",
    "seven = five.reshape(3, 2)\n",
    "print(seven)"
   ],
   "metadata": {
    "collapsed": false,
    "pycharm": {
     "name": "#%%\n"
    }
   }
  },
  {
   "cell_type": "code",
   "execution_count": 38,
   "outputs": [
    {
     "name": "stdout",
     "output_type": "stream",
     "text": [
      "[ 0  1  2  3  4  5  6  7  8  9 10 11 12 13 14 15 16 17 18 19 20 21 22 23]\n",
      "shape: (24,)\n",
      "ndim: 1\n",
      "----------------------------------------------------------------------------------------------------\n",
      "[[ 0  1  2  3  4  5]\n",
      " [ 6  7  8  9 10 11]\n",
      " [12 13 14 15 16 17]\n",
      " [18 19 20 21 22 23]]\n",
      "shape: (4, 6)\n",
      "ndim: 2\n",
      "----------------------------------------------------------------------------------------------------\n",
      "[[[ 0  1  2  3]\n",
      "  [ 4  5  6  7]\n",
      "  [ 8  9 10 11]]\n",
      "\n",
      " [[12 13 14 15]\n",
      "  [16 17 18 19]\n",
      "  [20 21 22 23]]]\n",
      "(2, 3, 4)\n",
      "3\n"
     ]
    }
   ],
   "source": [
    "t = np.arange(24)\n",
    "print(t)\n",
    "print(f\"shape: {t.shape}\")\n",
    "print(f\"ndim: {t.ndim}\")\n",
    "print(\"-\" * 100)\n",
    "# 转换成二维\n",
    "t1 = t.reshape((4, 6))\n",
    "print(t1)\n",
    "print(f\"shape: {t1.shape}\")\n",
    "print(f\"ndim: {t1.ndim}\")\n",
    "print(\"-\" * 100)\n",
    "# 转换成三维\n",
    "# 最前面的是0轴，后面的是1轴，2轴\n",
    "t2 = t1.reshape((2, 3, 4))\n",
    "print(t2)\n",
    "print(t2.shape)\n",
    "print(t2.ndim)"
   ],
   "metadata": {
    "collapsed": false,
    "pycharm": {
     "name": "#%%\n"
    }
   }
  },
  {
   "cell_type": "code",
   "execution_count": 39,
   "outputs": [
    {
     "name": "stdout",
     "output_type": "stream",
     "text": [
      "[[[[ 0  1]\n",
      "   [ 2  3]]\n",
      "\n",
      "  [[ 4  5]\n",
      "   [ 6  7]]\n",
      "\n",
      "  [[ 8  9]\n",
      "   [10 11]]]\n",
      "\n",
      "\n",
      " [[[12 13]\n",
      "   [14 15]]\n",
      "\n",
      "  [[16 17]\n",
      "   [18 19]]\n",
      "\n",
      "  [[20 21]\n",
      "   [22 23]]]]\n",
      "(2, 3, 2, 2)\n",
      "4\n"
     ]
    }
   ],
   "source": [
    "t3 = t.reshape((2, 3, 2, 2))\n",
    "print(t3)\n",
    "print(t3.shape)\n",
    "print(t3.ndim)"
   ],
   "metadata": {
    "collapsed": false,
    "pycharm": {
     "name": "#%%\n"
    }
   }
  },
  {
   "cell_type": "markdown",
   "source": [
    "# 4.5 数组转换为列表"
   ],
   "metadata": {
    "collapsed": false,
    "pycharm": {
     "name": "#%% md\n"
    }
   }
  },
  {
   "cell_type": "code",
   "execution_count": 40,
   "outputs": [
    {
     "name": "stdout",
     "output_type": "stream",
     "text": [
      "<class 'numpy.ndarray'>\n",
      "<class 'list'>\n",
      "[9, 12, 88, 45, 67]\n"
     ]
    }
   ],
   "source": [
    "# 将数组转换为列表 tolist\n",
    "a = np.array([9, 12, 88, 45, 67])\n",
    "print(type(a))\n",
    "list_a = a.tolist()\n",
    "print(type(list_a))\n",
    "print(list_a)"
   ],
   "metadata": {
    "collapsed": false,
    "pycharm": {
     "name": "#%%\n"
    }
   }
  },
  {
   "cell_type": "markdown",
   "source": [
    "# Numpy的数据类型"
   ],
   "metadata": {
    "collapsed": false,
    "pycharm": {
     "name": "#%% md\n"
    }
   }
  },
  {
   "cell_type": "code",
   "execution_count": 43,
   "outputs": [
    {
     "name": "stdout",
     "output_type": "stream",
     "text": [
      "1\n",
      "int8\n",
      "----------------------------------------------------------------------------------------------------\n",
      "[  1   2   3   4 127]\n",
      "-128\n"
     ]
    }
   ],
   "source": [
    "import random\n",
    "\n",
    "f = np.array([1, 2, 3, 4, 127], dtype=np.int8)  # 返回数组中每个元素的字节单位长度，dtype设置数据类型\n",
    "print(f.itemsize)  # f.itemsize是int8的字节单位长度\n",
    "# 获取数据类型\n",
    "print(f.dtype)\n",
    "print(\"-\" * 100)\n",
    "print(f)\n",
    "f[4] += 1  # 修改数组元素\n",
    "print(f[4])  # 发生溢出"
   ],
   "metadata": {
    "collapsed": false,
    "pycharm": {
     "name": "#%% mdlimport random\n"
    }
   }
  },
  {
   "cell_type": "code",
   "execution_count": 44,
   "outputs": [
    {
     "name": "stdout",
     "output_type": "stream",
     "text": [
      "int64\n",
      "8\n",
      "----------------------------------------------------------------------------------------------------\n"
     ]
    }
   ],
   "source": [
    "# 调整数据类型\n",
    "f1 = f.astype(np.int64)  # 转换为int16类型\n",
    "print(f1.dtype)\n",
    "print(f1.itemsize)\n",
    "print('-' * 100)"
   ],
   "metadata": {
    "collapsed": false,
    "pycharm": {
     "name": "#%%\n"
    }
   }
  },
  {
   "cell_type": "code",
   "execution_count": 45,
   "outputs": [
    {
     "data": {
      "text/plain": "0.23357588222447323"
     },
     "execution_count": 45,
     "metadata": {},
     "output_type": "execute_result"
    }
   ],
   "source": [
    "random.random()  # 随机生成0-1之间的浮点数"
   ],
   "metadata": {
    "collapsed": false,
    "pycharm": {
     "name": "#%%\n"
    }
   }
  },
  {
   "cell_type": "code",
   "execution_count": 48,
   "outputs": [
    {
     "name": "stdout",
     "output_type": "stream",
     "text": [
      "0.77\n",
      "[0.28505781 0.88727039 0.93185991 0.64802127 0.14368992 0.98394667\n",
      " 0.25643595 0.61476085 0.8923262  0.16417947]\n",
      "float64\n",
      "8\n",
      "[0.29 0.89 0.93 0.65 0.14 0.98 0.26 0.61 0.89 0.16]\n"
     ]
    }
   ],
   "source": [
    "# 拓展随机生成小数\n",
    "# 使用python语法，保留两位小数\n",
    "print(round(random.random(), 2))  # 函数的round()方法可以保留小数位数\n",
    "# np.float16 半精度\n",
    "arr = np.array([random.random() for i in range(10)])\n",
    "print(arr)\n",
    "print(arr.dtype)\n",
    "print(arr.itemsize)\n",
    "# 去小数点后两位\n",
    "print(np.round(arr, 2))  # 这里的round()跟python的round()方法不一样，是numpy的函数"
   ],
   "metadata": {
    "collapsed": false,
    "pycharm": {
     "name": "#%%# 拓展随机生成小数\n"
    }
   }
  },
  {
   "cell_type": "markdown",
   "source": [
    "# 数组和数的计算"
   ],
   "metadata": {
    "collapsed": false,
    "pycharm": {
     "name": "#%% md\n"
    }
   }
  },
  {
   "cell_type": "code",
   "execution_count": 49,
   "outputs": [
    {
     "ename": "TypeError",
     "evalue": "can only concatenate list (not \"int\") to list",
     "output_type": "error",
     "traceback": [
      "\u001B[1;31m---------------------------------------------------------------------------\u001B[0m",
      "\u001B[1;31mTypeError\u001B[0m                                 Traceback (most recent call last)",
      "\u001B[1;32m~\\AppData\\Local\\Temp\\ipykernel_13092\\2277650639.py\u001B[0m in \u001B[0;36m<module>\u001B[1;34m\u001B[0m\n\u001B[1;32m----> 1\u001B[1;33m \u001B[1;33m[\u001B[0m\u001B[1;36m1\u001B[0m\u001B[1;33m,\u001B[0m \u001B[1;36m2\u001B[0m\u001B[1;33m,\u001B[0m \u001B[1;36m3\u001B[0m\u001B[1;33m]\u001B[0m \u001B[1;33m+\u001B[0m \u001B[1;36m5\u001B[0m\u001B[1;33m\u001B[0m\u001B[1;33m\u001B[0m\u001B[0m\n\u001B[0m",
      "\u001B[1;31mTypeError\u001B[0m: can only concatenate list (not \"int\") to list"
     ]
    }
   ],
   "source": [
    "# [1, 2, 3] + 5  # 列表和数的计算，会报错"
   ],
   "metadata": {
    "collapsed": false,
    "pycharm": {
     "name": "#%%\n"
    }
   }
  },
  {
   "cell_type": "code",
   "execution_count": 52,
   "outputs": [
    {
     "name": "stdout",
     "output_type": "stream",
     "text": [
      "[[ 0  1  2  3]\n",
      " [ 4  5  6  7]\n",
      " [ 8  9 10 11]\n",
      " [12 13 14 15]\n",
      " [16 17 18 19]\n",
      " [20 21 22 23]]\n",
      "----------------------------------------------------------------------------------------------------\n",
      "[[ 1  2  3  4]\n",
      " [ 5  6  7  8]\n",
      " [ 9 10 11 12]\n",
      " [13 14 15 16]\n",
      " [17 18 19 20]\n",
      " [21 22 23 24]]\n",
      "----------------------------------------------------------------------------------------------------\n",
      "[[ 0  2  4  6]\n",
      " [ 8 10 12 14]\n",
      " [16 18 20 22]\n",
      " [24 26 28 30]\n",
      " [32 34 36 38]\n",
      " [40 42 44 46]]\n",
      "----------------------------------------------------------------------------------------------------\n",
      "[[ 0.   0.5  1.   1.5]\n",
      " [ 2.   2.5  3.   3.5]\n",
      " [ 4.   4.5  5.   5.5]\n",
      " [ 6.   6.5  7.   7.5]\n",
      " [ 8.   8.5  9.   9.5]\n",
      " [10.  10.5 11.  11.5]]\n"
     ]
    }
   ],
   "source": [
    "# 由于numpy的广播机制在运算过程中，加减乘除的值被广播到所有元素的上面\n",
    "t1 = np.arange(24).reshape((6, 4))\n",
    "print(t1)\n",
    "print(\"-\" * 100)\n",
    "t2 = t1.tolist()\n",
    "print(t1 + 1)  # 数组和数的计算\n",
    "print(\"-\" * 100)\n",
    "print(t1 * 2)\n",
    "print(\"-\" * 100)\n",
    "print(t1 / 2)"
   ],
   "metadata": {
    "collapsed": false,
    "pycharm": {
     "name": "#%%\n"
    }
   }
  },
  {
   "cell_type": "markdown",
   "source": [
    "# ndarray与ndarray的运算"
   ],
   "metadata": {
    "collapsed": false,
    "pycharm": {
     "name": "#%% md\n"
    }
   }
  },
  {
   "cell_type": "code",
   "execution_count": 53,
   "outputs": [
    {
     "name": "stdout",
     "output_type": "stream",
     "text": [
      "[[ 0  1  2  3]\n",
      " [ 4  5  6  7]\n",
      " [ 8  9 10 11]\n",
      " [12 13 14 15]\n",
      " [16 17 18 19]\n",
      " [20 21 22 23]]\n",
      "----------------------------------------------------------------------------------------------------\n",
      "[[100 101 102 103]\n",
      " [104 105 106 107]\n",
      " [108 109 110 111]\n",
      " [112 113 114 115]\n",
      " [116 117 118 119]\n",
      " [120 121 122 123]]\n",
      "----------------------------------------------------------------------------------------------------\n",
      "[[100 102 104 106]\n",
      " [108 110 112 114]\n",
      " [116 118 120 122]\n",
      " [124 126 128 130]\n",
      " [132 134 136 138]\n",
      " [140 142 144 146]]\n",
      "----------------------------------------------------------------------------------------------------\n",
      "[[   0  101  204  309]\n",
      " [ 416  525  636  749]\n",
      " [ 864  981 1100 1221]\n",
      " [1344 1469 1596 1725]\n",
      " [1856 1989 2124 2261]\n",
      " [2400 2541 2684 2829]]\n"
     ]
    }
   ],
   "source": [
    "# 形状相同，才可以进行加减乘除\n",
    "t1 = np.arange(24).reshape((6, 4))\n",
    "t2 = np.arange(100, 124).reshape((6, 4))\n",
    "print(t1)\n",
    "print(\"-\" * 100)\n",
    "print(t2)\n",
    "print(\"-\" * 100)\n",
    "print(t1 + t2)\n",
    "print(\"-\" * 100)\n",
    "print(t1 * t2)  # 对应元素相乘"
   ],
   "metadata": {
    "collapsed": false,
    "pycharm": {
     "name": "#%%\n"
    }
   }
  },
  {
   "cell_type": "markdown",
   "source": [
    "# shape不同，不能进行加减乘除"
   ],
   "metadata": {
    "collapsed": false,
    "pycharm": {
     "name": "#%% md\n"
    }
   }
  },
  {
   "cell_type": "code",
   "execution_count": 56,
   "outputs": [
    {
     "name": "stdout",
     "output_type": "stream",
     "text": [
      "[[ 0  1  2  3  4  5]\n",
      " [ 6  7  8  9 10 11]\n",
      " [12 13 14 15 16 17]\n",
      " [18 19 20 21 22 23]]\n",
      "----------------------------------------------------------------------------------------------------\n",
      "[[ 0  1  2  3  4  5]\n",
      " [ 6  7  8  9 10 11]\n",
      " [12 13 14 15 16 17]]\n",
      "----------------------------------------------------------------------------------------------------\n"
     ]
    },
    {
     "ename": "ValueError",
     "evalue": "operands could not be broadcast together with shapes (4,6) (3,6) ",
     "output_type": "error",
     "traceback": [
      "\u001B[1;31m---------------------------------------------------------------------------\u001B[0m",
      "\u001B[1;31mValueError\u001B[0m                                Traceback (most recent call last)",
      "\u001B[1;32m~\\AppData\\Local\\Temp\\ipykernel_13092\\434431390.py\u001B[0m in \u001B[0;36m<module>\u001B[1;34m\u001B[0m\n\u001B[0;32m      5\u001B[0m \u001B[0mprint\u001B[0m\u001B[1;33m(\u001B[0m\u001B[0mt2\u001B[0m\u001B[1;33m)\u001B[0m\u001B[1;33m\u001B[0m\u001B[1;33m\u001B[0m\u001B[0m\n\u001B[0;32m      6\u001B[0m \u001B[0mprint\u001B[0m\u001B[1;33m(\u001B[0m\u001B[1;34m\"-\"\u001B[0m \u001B[1;33m*\u001B[0m \u001B[1;36m100\u001B[0m\u001B[1;33m)\u001B[0m\u001B[1;33m\u001B[0m\u001B[1;33m\u001B[0m\u001B[0m\n\u001B[1;32m----> 7\u001B[1;33m \u001B[0mprint\u001B[0m\u001B[1;33m(\u001B[0m\u001B[0mt1\u001B[0m \u001B[1;33m-\u001B[0m \u001B[0mt2\u001B[0m\u001B[1;33m)\u001B[0m  \u001B[1;31m# 形状不同，不能进行加减乘除\u001B[0m\u001B[1;33m\u001B[0m\u001B[1;33m\u001B[0m\u001B[0m\n\u001B[0m",
      "\u001B[1;31mValueError\u001B[0m: operands could not be broadcast together with shapes (4,6) (3,6) "
     ]
    }
   ],
   "source": [
    "t1 = np.arange(24).reshape((4, 6))\n",
    "t2 = np.arange(18).reshape((3, 6))\n",
    "print(t1)\n",
    "print(\"-\" * 100)\n",
    "print(t2)\n",
    "print(\"-\" * 100)\n",
    "print(t1 - t2)  # 形状不同，不能进行加减乘除\n"
   ],
   "metadata": {
    "collapsed": false,
    "pycharm": {
     "name": "#%%t1 = np.arange(24).reshape((4, 6))\n"
    }
   }
  },
  {
   "cell_type": "code",
   "execution_count": 60,
   "outputs": [
    {
     "name": "stdout",
     "output_type": "stream",
     "text": [
      "(1, 6)\n",
      "----------------------------------------------------------------------------------------------------\n",
      "[[ 0  1  2  3  4  5]\n",
      " [ 6  7  8  9 10 11]\n",
      " [12 13 14 15 16 17]\n",
      " [18 19 20 21 22 23]]\n",
      "----------------------------------------------------------------------------------------------------\n",
      "[[0 1 2 3 4 5]]\n",
      "----------------------------------------------------------------------------------------------------\n",
      "[[ 0  0  0  0  0  0]\n",
      " [ 6  6  6  6  6  6]\n",
      " [12 12 12 12 12 12]\n",
      " [18 18 18 18 18 18]]\n",
      "----------------------------------------------------------------------------------------------------\n",
      "(4, 6)\n"
     ]
    }
   ],
   "source": [
    "# 一维数组和二维数组运算时，一维的元素个数和列数相同\n",
    "t1 = np.arange(24).reshape((4, 6))\n",
    "t2 = np.arange(6).reshape((1, 6))\n",
    "print(t2.shape)\n",
    "print(\"-\" * 100)\n",
    "print(t1)\n",
    "print(\"-\" * 100)\n",
    "print(t2)\n",
    "print(\"-\" * 100)\n",
    "print(t1 - t2)  # 一维数组和二维数组运算时，一维的元素个数和列数相同\n",
    "print(\"-\" * 100)\n",
    "print((t1 - t2).shape)"
   ],
   "metadata": {
    "collapsed": false,
    "pycharm": {
     "name": "#%%\n"
    }
   }
  },
  {
   "cell_type": "code",
   "execution_count": 61,
   "outputs": [
    {
     "name": "stdout",
     "output_type": "stream",
     "text": [
      "[[[ 0  0  0  0]\n",
      "  [ 0  0  0  0]\n",
      "  [ 0  0  0  0]]\n",
      "\n",
      " [[12 12 12 12]\n",
      "  [12 12 12 12]\n",
      "  [12 12 12 12]]]\n"
     ]
    }
   ],
   "source": [
    "# 随机三维数组\n",
    "a = np.arange(24).reshape((2, 3, 4))\n",
    "b = np.arange(12).reshape((1, 3, 4))\n",
    "print(a - b)\n",
    "# 结论：ndim要相同，可以某一个轴的size不同，但是其中一个ndarray必须对应的轴的size为1"
   ],
   "metadata": {
    "collapsed": false,
    "pycharm": {
     "name": "#%%\n"
    }
   }
  },
  {
   "cell_type": "markdown",
   "source": [
    "# 练习轴"
   ],
   "metadata": {
    "collapsed": false,
    "pycharm": {
     "name": "#%% md\n"
    }
   }
  },
  {
   "cell_type": "code",
   "execution_count": 63,
   "outputs": [
    {
     "name": "stdout",
     "output_type": "stream",
     "text": [
      "[[1 2 3]\n",
      " [4 5 6]]\n",
      "----------------------------------------------------------------------------------------------------\n",
      "[5 7 9]\n",
      "----------------------------------------------------------------------------------------------------\n",
      "[ 6 15]\n",
      "----------------------------------------------------------------------------------------------------\n",
      "21\n"
     ]
    }
   ],
   "source": [
    "import numpy as np\n",
    "\n",
    "a = np.array([[1, 2, 3], [4, 5, 6]])\n",
    "print(a)\n",
    "print(\"-\" * 100)\n",
    "print(np.sum(a, axis=0))  # 按列求和\n",
    "print(\"-\" * 100)\n",
    "print(np.sum(a, axis=1))  # 按行求和\n",
    "print(\"-\" * 100)\n",
    "print(np.sum(a))  # 所有元素求和\n"
   ],
   "metadata": {
    "collapsed": false,
    "pycharm": {
     "name": "#%%\n"
    }
   }
  },
  {
   "cell_type": "code",
   "execution_count": 64,
   "outputs": [
    {
     "name": "stdout",
     "output_type": "stream",
     "text": [
      "(3, 4)\n",
      "----------------------------------------------------------------------------------------------------\n",
      "(2, 4)\n",
      "----------------------------------------------------------------------------------------------------\n",
      "(2, 3)\n",
      "----------------------------------------------------------------------------------------------------\n"
     ]
    }
   ],
   "source": [
    "a = np.arange(24).reshape((2, 3, 4))\n",
    "b = np.sum(a, axis=0)\n",
    "print(b.shape)\n",
    "print(\"-\" * 100)\n",
    "c = np.sum(a, axis=1)\n",
    "print(c.shape)\n",
    "print(\"-\" * 100)\n",
    "d = np.sum(a, axis=2)\n",
    "print(d.shape)\n",
    "print(\"-\" * 100)"
   ],
   "metadata": {
    "collapsed": false,
    "pycharm": {
     "name": "#%%\n"
    }
   }
  },
  {
   "cell_type": "markdown",
   "source": [
    "# 索引和切片"
   ],
   "metadata": {
    "collapsed": false,
    "pycharm": {
     "name": "#%% md\n"
    }
   }
  },
  {
   "cell_type": "code",
   "execution_count": 65,
   "outputs": [
    {
     "name": "stdout",
     "output_type": "stream",
     "text": [
      "0 [0 1 2 3 4 5 6 7 8 9]\n",
      "[2 3 4 5 6 7 8 9]\n",
      "[2 4 6]\n",
      "[9 8 7 6 5 4 3 2 1 0]\n"
     ]
    }
   ],
   "source": [
    "import numpy as np\n",
    "\n",
    "a = np.arange(10)\n",
    "\n",
    "# 如果只放置一个参数，如[2]，将返回与该索引对应的单个元素\n",
    "print(a[0], a)\n",
    "# 如果为[2:]，表示从该索引开始到结尾的所有元素\n",
    "print(a[2:])\n",
    "\n",
    "print(a[2:8:2])  # 切片是左闭右开的\n",
    "print(a[::-1])  # 逆序"
   ],
   "metadata": {
    "collapsed": false,
    "pycharm": {
     "name": "#%%\n"
    }
   }
  },
  {
   "cell_type": "code",
   "execution_count": 68,
   "outputs": [
    {
     "name": "stdout",
     "output_type": "stream",
     "text": [
      "[[ 0  1  2  3  4  5]\n",
      " [ 6  7  8  9 10 11]\n",
      " [12 13 14 15 16 17]\n",
      " [18 19 20 21 22 23]]\n",
      "----------------------------------------------------------------------------------------------------\n",
      "[ 6  7  8  9 10 11]\n",
      "----------------------------------------------------------------------------------------------------\n",
      "[[ 6  7  8  9 10 11]\n",
      " [12 13 14 15 16 17]\n",
      " [18 19 20 21 22 23]]\n",
      "----------------------------------------------------------------------------------------------------\n",
      "[[ 6  7  8  9 10 11]\n",
      " [12 13 14 15 16 17]]\n",
      "----------------------------------------------------------------------------------------------------\n",
      "[[ 0  1  2  3  4  5]\n",
      " [12 13 14 15 16 17]\n",
      " [18 19 20 21 22 23]]\n"
     ]
    }
   ],
   "source": [
    "import numpy as np\n",
    "\n",
    "t1 = np.arange(24).reshape((4, 6))\n",
    "print(t1)\n",
    "print(\"-\" * 100)\n",
    "print(t1[1])\n",
    "print(\"-\" * 100)\n",
    "print(t1[1:])\n",
    "print(\"-\" * 100)\n",
    "print(t1[1:3, :])  # 第一个维度是行，第二个维度是列，表示从1行到3行，所有列\n",
    "print(\"-\" * 100)\n",
    "print(t1[[0, 2, 3]])  # 选中第0，2，3行，没有设置列，默认选中所有列"
   ],
   "metadata": {
    "collapsed": false,
    "pycharm": {
     "name": "#%%\n"
    }
   }
  },
  {
   "cell_type": "code",
   "execution_count": 69,
   "outputs": [
    {
     "ename": "TypeError",
     "evalue": "list indices must be integers or slices, not list",
     "output_type": "error",
     "traceback": [
      "\u001B[1;31m---------------------------------------------------------------------------\u001B[0m",
      "\u001B[1;31mTypeError\u001B[0m                                 Traceback (most recent call last)",
      "\u001B[1;32m~\\AppData\\Local\\Temp\\ipykernel_13092\\192516136.py\u001B[0m in \u001B[0;36m<module>\u001B[1;34m\u001B[0m\n\u001B[0;32m      1\u001B[0m \u001B[1;31m# 看列表\u001B[0m\u001B[1;33m\u001B[0m\u001B[1;33m\u001B[0m\u001B[0m\n\u001B[0;32m      2\u001B[0m \u001B[0mt2\u001B[0m \u001B[1;33m=\u001B[0m \u001B[0mnp\u001B[0m\u001B[1;33m.\u001B[0m\u001B[0marange\u001B[0m\u001B[1;33m(\u001B[0m\u001B[1;36m24\u001B[0m\u001B[1;33m)\u001B[0m\u001B[1;33m.\u001B[0m\u001B[0mreshape\u001B[0m\u001B[1;33m(\u001B[0m\u001B[1;33m(\u001B[0m\u001B[1;36m4\u001B[0m\u001B[1;33m,\u001B[0m \u001B[1;36m6\u001B[0m\u001B[1;33m)\u001B[0m\u001B[1;33m)\u001B[0m\u001B[1;33m.\u001B[0m\u001B[0mtolist\u001B[0m\u001B[1;33m(\u001B[0m\u001B[1;33m)\u001B[0m\u001B[1;33m\u001B[0m\u001B[1;33m\u001B[0m\u001B[0m\n\u001B[1;32m----> 3\u001B[1;33m \u001B[0mprint\u001B[0m\u001B[1;33m(\u001B[0m\u001B[0mt2\u001B[0m\u001B[1;33m[\u001B[0m\u001B[1;33m[\u001B[0m\u001B[1;36m0\u001B[0m\u001B[1;33m,\u001B[0m \u001B[1;36m2\u001B[0m\u001B[1;33m,\u001B[0m \u001B[1;36m3\u001B[0m\u001B[1;33m]\u001B[0m\u001B[1;33m]\u001B[0m\u001B[1;33m)\u001B[0m\u001B[1;33m\u001B[0m\u001B[1;33m\u001B[0m\u001B[0m\n\u001B[0m",
      "\u001B[1;31mTypeError\u001B[0m: list indices must be integers or slices, not list"
     ]
    }
   ],
   "source": [
    "# 看列表\n",
    "t2 = np.arange(24).reshape((4, 6)).tolist()\n",
    "print(t2[[0, 2, 3]])  # 列表不能使用[[ ]]，只能使用[ ]"
   ],
   "metadata": {
    "collapsed": false,
    "pycharm": {
     "name": "#%%\n"
    }
   }
  },
  {
   "cell_type": "code",
   "execution_count": 74,
   "outputs": [
    {
     "name": "stdout",
     "output_type": "stream",
     "text": [
      "[ 1  7 13 19]\n",
      "----------------------------------------------------------------------------------------------------\n",
      "[[ 1  2  3  4  5]\n",
      " [ 7  8  9 10 11]\n",
      " [13 14 15 16 17]\n",
      " [19 20 21 22 23]]\n",
      "----------------------------------------------------------------------------------------------------\n",
      "[[ 0  2  3]\n",
      " [ 6  8  9]\n",
      " [12 14 15]\n",
      " [18 20 21]]\n",
      "----------------------------------------------------------------------------------------------------\n",
      "15\n",
      "----------------------------------------------------------------------------------------------------\n",
      "[0 7 9]\n"
     ]
    }
   ],
   "source": [
    "print(t1[:, 1])\n",
    "print(\"-\" * 100)\n",
    "print(t1[:, 1:])\n",
    "print(\"-\" * 100)\n",
    "print(t1[:, [0, 2, 3]])\n",
    "print(\"-\" * 100)\n",
    "print(t1[2, 3])\n",
    "print(\"-\" * 100)\n",
    "print(t1[[0, 1, 1], [0, 1, 3]])  # 选中的三个元素分别是(0,0), (1,1), (1,3)，行列参数数量要相同"
   ],
   "metadata": {
    "collapsed": false,
    "pycharm": {
     "name": "#%%\n"
    }
   }
  },
  {
   "cell_type": "markdown",
   "source": [
    "# 修改值"
   ],
   "metadata": {
    "collapsed": false,
    "pycharm": {
     "name": "#%% md\n"
    }
   }
  },
  {
   "cell_type": "code",
   "execution_count": 93,
   "outputs": [
    {
     "name": "stdout",
     "output_type": "stream",
     "text": [
      "[[ 0  1  2  3  4  5]\n",
      " [ 6  7  8  9 10 11]\n",
      " [12 13 14 15 16 17]\n",
      " [18 19 20 21 22 23]]\n",
      "2666257308912\n",
      "----------------------------------------------------------------------------------------------------\n",
      "[[ 0  1  2  3  4  5]\n",
      " [ 6  7  8  9 10 10]\n",
      " [10 10 10 10 10 10]\n",
      " [10 10 10 10 10 10]]\n",
      "2666257308912\n",
      "----------------------------------------------------------------------------------------------------\n"
     ]
    }
   ],
   "source": [
    "import numpy as np\n",
    "\n",
    "t = np.arange(24).reshape((4, 6))\n",
    "print(t)\n",
    "print(id(t))\n",
    "print(\"-\" * 100)\n",
    "\n",
    "# # 修改某一行的值\n",
    "# t[1, :] = 0\n",
    "# print(t)\n",
    "# print(\"-\" * 100)\n",
    "#\n",
    "# # 修改某一列的值\n",
    "# t[:, 2] = 1000\n",
    "# print(t)\n",
    "# print(\"-\" * 100)\n",
    "#\n",
    "# # 修改连续多行的值\n",
    "# t[1:3, :] = 999\n",
    "# print(t)\n",
    "# print(\"-\" * 100)\n",
    "#\n",
    "# # 修改多上多列，取第二行到第四行，第三列到第五列\n",
    "# t[1:4, 2:5] = 888\n",
    "# print(t)\n",
    "# print(\"-\" * 100)\n",
    "#\n",
    "# # 修改多个不相邻的点\n",
    "# t[[0, 2], [1, 3]] = 777\n",
    "# print(t)\n",
    "# print(\"-\" * 100)\n",
    "#\n",
    "# # 根据条件修改\n",
    "# t[t > 777] = 666\n",
    "# print(t)\n",
    "# print(\"-\" * 100)\n",
    "\n",
    "# 使用逻辑判断修改\n",
    "# t中大于11小于16的元素为True，其余为False，out=t表示将结果赋值给t\n",
    "# np.logical_and(t > 11, t < 16, out=t)\n",
    "# print(t)\n",
    "# print(\"-\" * 100)\n",
    "#\n",
    "# np.logical_or(t > 11, t < 16, out=t)\n",
    "# print(t)\n",
    "# print(\"-\" * 100)\n",
    "# t[(t > 11) & (t < 16)] = 0\n",
    "# print(t)\n",
    "# print(\"-\" * 100)\n",
    "# t[(t < 2) | (t > 6)] = 0\n",
    "# print(t)\n",
    "# print(\"-\" * 100)\n",
    "# t[~(t > 6)] = 0\n",
    "# print(t)\n",
    "# print(\"-\" * 100)\n",
    "# clip()方法把大于10的元素替换为10，小于0的元素替换为0\n",
    "t.clip(0, 10, out=t)  # 将t中的值限制在0-10之间\n",
    "print(t)\n",
    "print(id(t))\n",
    "print(\"-\" * 100)"
   ],
   "metadata": {
    "collapsed": false,
    "pycharm": {
     "name": "#%% md# md\n"
    }
   }
  },
  {
   "cell_type": "code",
   "execution_count": 98,
   "outputs": [
    {
     "name": "stdout",
     "output_type": "stream",
     "text": [
      "[[ True  True  True  True  True  True]\n",
      " [ True  True  True  True False False]\n",
      " [False False False False False False]\n",
      " [False False False False False False]]\n"
     ]
    },
    {
     "data": {
      "text/plain": "array([[ True,  True,  True,  True,  True,  True],\n       [ True,  True,  True,  True, False, False],\n       [False, False, False, False, False, False],\n       [False, False, False, False, False, False]])"
     },
     "execution_count": 98,
     "metadata": {},
     "output_type": "execute_result"
    }
   ],
   "source": [
    "t = np.arange(24).reshape((4, 6))\n",
    "print(t < 10)\n",
    "t < 10"
   ],
   "metadata": {
    "collapsed": false,
    "pycharm": {
     "name": "#%%\n"
    }
   }
  },
  {
   "cell_type": "code",
   "execution_count": 99,
   "outputs": [
    {
     "name": "stdout",
     "output_type": "stream",
     "text": [
      "15\n"
     ]
    }
   ],
   "source": [
    "# python的三目运算符\n",
    "a = 10\n",
    "b = 15\n",
    "c = a if a > b else b\n",
    "print(c)"
   ],
   "metadata": {
    "collapsed": false,
    "pycharm": {
     "name": "#%%\n"
    }
   }
  },
  {
   "cell_type": "code",
   "execution_count": 102,
   "outputs": [
    {
     "name": "stdout",
     "output_type": "stream",
     "text": [
      "[[85 90]\n",
      " [82 81]\n",
      " [75 81]]\n",
      "----------------------------------------------------------------------------------------------------\n",
      "[[False False]\n",
      " [False False]\n",
      " [ True False]]\n",
      "----------------------------------------------------------------------------------------------------\n",
      "[[85 90]\n",
      " [82 81]\n",
      " [ 0 81]]\n",
      "----------------------------------------------------------------------------------------------------\n"
     ]
    }
   ],
   "source": [
    "# 拓展\n",
    "# 三目运算（np.where(condition, x, y)）满足条件(condition),输出x,否则输出y\n",
    "score = np.array([[85, 90], [82, 81], [75, 81]])\n",
    "print(score)\n",
    "print(\"-\" * 100)\n",
    "result = np.where(score < 80, True, False)\n",
    "print(result)\n",
    "print(\"-\" * 100)\n",
    "score[result] = 0  # 将result为True的元素的位置赋值为0\n",
    "print(score)\n",
    "print(\"-\" * 100)"
   ],
   "metadata": {
    "collapsed": false,
    "pycharm": {
     "name": "#%%\n"
    }
   }
  },
  {
   "cell_type": "markdown",
   "source": [
    "# 数据的添加，删除与去重"
   ],
   "metadata": {
    "collapsed": false,
    "pycharm": {
     "name": "#%% md\n"
    }
   }
  },
  {
   "cell_type": "code",
   "execution_count": 116,
   "outputs": [
    {
     "name": "stdout",
     "output_type": "stream",
     "text": [
      "[[1 2 3]\n",
      " [4 5 6]]\n",
      "(2, 3)\n",
      "----------------------------------------------------------------------------------------------------\n",
      "[[1 2 3]\n",
      " [4 5 6]\n",
      " [7 8 9]]\n",
      "----------------------------------------------------------------------------------------------------\n",
      "[[ 1  2  3  7  8  9]\n",
      " [ 4  5  6 10 11 12]]\n",
      "----------------------------------------------------------------------------------------------------\n"
     ]
    }
   ],
   "source": [
    "# 1 numpy.append() 函数在数组的末尾添加元素。追加操作会分配新的内存，并复制原数组中的元素。\n",
    "# 此外，输入数组的维度必须匹配否则会报错。\n",
    "\"\"\"\n",
    "参数说明：\n",
    "axis有定义的时候，分别为0和1的时候（列数要相同）。当axis为1时，数组是加在右边（行数要相同）\n",
    "\"\"\"\n",
    "import numpy as np\n",
    "\n",
    "a = np.array([[1, 2, 3], [4, 5, 6]])\n",
    "print(a)\n",
    "print(a.shape)\n",
    "print(\"-\" * 100)\n",
    "b = np.append(a, [[7, 8, 9]], axis=0)  # axis=0时，列数要相同\n",
    "print(b)\n",
    "print(\"-\" * 100)\n",
    "c = np.append(a, [[7, 8, 9], [10, 11, 12]], axis=1)  # axis=1时，行数要相同\n",
    "print(c)\n",
    "print(\"-\" * 100)\n",
    "\n",
    "# print(\"向数组添加元素：\")\n",
    "# print(np.append(a, [7, 8, 9]))  # ndarray会被展平\n",
    "# print(\"-\" * 100)\n",
    "# print(a)\n",
    "# print(\"-\" * 100)\n"
   ],
   "metadata": {
    "collapsed": false,
    "pycharm": {
     "name": "#%%\n"
    }
   }
  },
  {
   "cell_type": "code",
   "execution_count": 117,
   "outputs": [
    {
     "name": "stdout",
     "output_type": "stream",
     "text": [
      "2\n",
      "[[1 2 3]]\n",
      "----------------------------------------------------------------------------------------------------\n"
     ]
    }
   ],
   "source": [
    "b = np.array([[1, 2, 3]])\n",
    "print(b.ndim)\n",
    "print(b)\n",
    "print(\"-\" * 100)"
   ],
   "metadata": {
    "collapsed": false,
    "pycharm": {
     "name": "#%%\n"
    }
   }
  },
  {
   "cell_type": "code",
   "execution_count": 119,
   "outputs": [
    {
     "name": "stdout",
     "output_type": "stream",
     "text": [
      "沿轴0添加元素：\n",
      "[[1 2 3]\n",
      " [4 5 6]\n",
      " [7 8 9]]\n",
      "----------------------------------------------------------------------------------------------------\n",
      "[[1 2 3]\n",
      " [4 5 6]]\n",
      "----------------------------------------------------------------------------------------------------\n",
      "沿轴1添加元素：\n",
      "[[1 2 3 5 5 5]\n",
      " [4 5 6 6 6 6]]\n",
      "----------------------------------------------------------------------------------------------------\n",
      "[[1 2 3]\n",
      " [4 5 6]]\n"
     ]
    }
   ],
   "source": [
    "print(\"沿轴0添加元素：\")  # 往哪个轴添加元素，哪个轴的size就变大\n",
    "print(np.append(a, [[7, 8, 9]], axis=0))\n",
    "print(\"-\" * 100)\n",
    "print(a)\n",
    "print(\"-\" * 100)\n",
    "print(\"沿轴1添加元素：\")\n",
    "print(np.append(a, [[5, 5, 5], [6, 6, 6]], axis=1))\n",
    "print(\"-\" * 100)\n",
    "print(a)"
   ],
   "metadata": {
    "collapsed": false,
    "pycharm": {
     "name": "#%%\n"
    }
   }
  },
  {
   "cell_type": "markdown",
   "source": [
    "# numpy.insert()\n",
    "# 函数在给定索引之前，沿给定轴在输入数组中插入值\n",
    "# 函数在数组的指定位置插入元素。插入操作会分配新的内存，并复制原数组中的元素。"
   ],
   "metadata": {
    "collapsed": false,
    "pycharm": {
     "name": "#%% md\n"
    }
   }
  },
  {
   "cell_type": "code",
   "execution_count": 124,
   "outputs": [
    {
     "name": "stdout",
     "output_type": "stream",
     "text": [
      "第一个数组：\n",
      "[[1 2]\n",
      " [3 4]\n",
      " [5 6]]\n",
      "----------------------------------------------------------------------------------------------------\n",
      "未传递axis参数。在插入之前输入数组会被展平\n",
      "[ 1 11 22  2  3  4  5  6]\n",
      "----------------------------------------------------------------------------------------------------\n",
      "[[ 1  2]\n",
      " [11 12]\n",
      " [ 3  4]\n",
      " [ 5  6]]\n",
      "----------------------------------------------------------------------------------------------------\n",
      "沿轴0广播\n",
      "[[ 1  2]\n",
      " [11 11]\n",
      " [ 3  4]\n",
      " [ 5  6]]\n",
      "----------------------------------------------------------------------------------------------------\n",
      "沿轴1广播\n",
      "[[ 1 11  2]\n",
      " [ 3 11  4]\n",
      " [ 5 11  6]]\n"
     ]
    }
   ],
   "source": [
    "a = np.array([[1, 2], [3, 4], [5, 6]])\n",
    "print(\"第一个数组：\")\n",
    "print(a)\n",
    "print(\"-\" * 100)\n",
    "\n",
    "print(\"未传递axis参数。在插入之前输入数组会被展平\")\n",
    "print(np.insert(a, 1, [11, 22]))\n",
    "print(\"-\" * 100)\n",
    "\n",
    "print(np.insert(a, 1, [11, 12], axis=0))  # 哪个轴插入，哪个轴的size就变大\n",
    "print(\"-\" * 100)\n",
    "\n",
    "print(\"沿轴0广播\")\n",
    "print(np.insert(a, 1, 11, axis=0))\n",
    "print(\"-\" * 100)\n",
    "print(\"沿轴1广播\")\n",
    "print(np.insert(a, 1, 11, axis=1))"
   ],
   "metadata": {
    "collapsed": false,
    "pycharm": {
     "name": "#%%\n"
    }
   }
  },
  {
   "cell_type": "code",
   "execution_count": 130,
   "outputs": [
    {
     "name": "stdout",
     "output_type": "stream",
     "text": [
      "[[ 0  1  2  3  4  5]\n",
      " [ 6  7  8  9 10 11]\n",
      " [12 13 14 15 16 17]\n",
      " [18 19 20 21 22 23]]\n",
      "----------------------------------------------------------------------------------------------------\n",
      "未传递axis参数。在删除之前输入数组会被展平\n",
      "[ 0  1  2  3  4  5  6  7  8 10 11 12 13 14 15 16 17 18 19 20 21 22 23]\n",
      "----------------------------------------------------------------------------------------------------\n",
      "删除第一行\n",
      "[[ 0  1  2  3  4  5]\n",
      " [12 13 14 15 16 17]\n",
      " [18 19 20 21 22 23]]\n",
      "----------------------------------------------------------------------------------------------------\n",
      "删除第零列\n",
      "[[ 1  2  3  4  5]\n",
      " [ 7  8  9 10 11]\n",
      " [13 14 15 16 17]\n",
      " [19 20 21 22 23]]\n",
      "----------------------------------------------------------------------------------------------------\n"
     ]
    }
   ],
   "source": [
    "# numpy.delete() 函数删除数组中的元素。删除操作会分配新的内存，并复制原数组中的元素。\n",
    "# 参数说明：\n",
    "# 第一个参数：输入数组\n",
    "# 第二个参数：索引，可以是整数，也可以是整数数组。如果是整数，表示删除指定位置的元素；如果是整数数组，表示删除指定位置的元素。\n",
    "# 第三个参数：axis，表示删除的轴。\n",
    "\n",
    "a = np.arange(24).reshape(4, 6)\n",
    "print(a)\n",
    "print(\"-\" * 100)\n",
    "\n",
    "print(\"未传递axis参数。在删除之前输入数组会被展平\")\n",
    "print(np.delete(a, 9))\n",
    "print(\"-\" * 100)\n",
    "\n",
    "print(\"删除第一行\")\n",
    "print(np.delete(a, 1, axis=0))\n",
    "print(\"-\" * 100)\n",
    "\n",
    "print(\"删除第零列\")\n",
    "print(np.delete(a, 0, axis=1))\n",
    "print(\"-\" * 100)"
   ],
   "metadata": {
    "collapsed": false,
    "pycharm": {
     "name": "#%%\n"
    }
   }
  },
  {
   "cell_type": "code",
   "execution_count": 137,
   "outputs": [
    {
     "name": "stdout",
     "output_type": "stream",
     "text": [
      "第一个数组：\n",
      "[1 2 3 2 4 1 5 6 5 1 2 3 4 5 6]\n",
      "----------------------------------------------------------------------------------------------------\n",
      "第一个数组的去重值：\n",
      "[1 2 3 4 5 6]\n",
      "----------------------------------------------------------------------------------------------------\n",
      "去重数组的索引数组：\n",
      "[1 2 3 4 5 6]\n",
      "[0 1 2 4 6 7]\n",
      "----------------------------------------------------------------------------------------------------\n",
      "去重前数组的元素在去重后数组的位置：\n",
      "[1 2 3 4 5 6]\n",
      "[0 1 2 1 3 0 4 5 4 0 1 2 3 4 5]\n",
      "----------------------------------------------------------------------------------------------------\n"
     ]
    }
   ],
   "source": [
    "# numpy.unique() 函数用于去除数组中的重复元素，并返回不重复元素组成的新数组。\n",
    "# 参数说明：\n",
    "# 第一个参数：输入数组\n",
    "# 第二个参数：axis，表示去除重复元素的轴。\n",
    "\"\"\"\n",
    "arr:输入数组。\n",
    "return_index：如果为True，返回索引数组，否则不返回。\n",
    "return_inverse：如果为True，返回反向索引数组，否则不返回。\n",
    "return_counts：如果为True，返回重复元素的计数，否则不返回。\n",
    "\"\"\"\n",
    "\n",
    "import numpy as np\n",
    "\n",
    "a = np.array([1, 2, 3, 2, 4, 1, 5, 6, 5, 1, 2, 3, 4, 5, 6])\n",
    "print(\"第一个数组：\")\n",
    "print(a)\n",
    "print(\"-\" * 100)\n",
    "\n",
    "# 去除重复元素，输出的是有序数组\n",
    "print(\"第一个数组的去重值：\")\n",
    "u = np.unique(a)\n",
    "print(u)\n",
    "print(\"-\" * 100)\n",
    "\n",
    "print(\"去重数组的索引数组：\")\n",
    "u, indices = np.unique(a, return_index=True)\n",
    "print(u)\n",
    "print(indices)\n",
    "print(\"-\" * 100)\n",
    "\n",
    "print(\"去重前数组的元素在去重后数组的位置：\")\n",
    "u, indices = np.unique(a, return_inverse=True)\n",
    "print(u)\n",
    "print(indices)\n",
    "print(\"-\" * 100)\n",
    "\n"
   ],
   "metadata": {
    "collapsed": false,
    "pycharm": {
     "name": "#%%\n"
    }
   }
  },
  {
   "cell_type": "markdown",
   "source": [
    "# numpy的数学计算"
   ],
   "metadata": {
    "collapsed": false,
    "pycharm": {
     "name": "#%% md\n"
    }
   }
  },
  {
   "cell_type": "code",
   "execution_count": 150,
   "outputs": [
    {
     "name": "stdout",
     "output_type": "stream",
     "text": [
      "[[85 90]\n",
      " [82 81]\n",
      " [75 81]]\n",
      "90\n",
      "----------------------------------------------------------------------------------------------------\n",
      "[90 82 81]\n",
      "----------------------------------------------------------------------------------------------------\n",
      "75\n",
      "----------------------------------------------------------------------------------------------------\n",
      "[75 81]\n",
      "----------------------------------------------------------------------------------------------------\n",
      "[0 0 0 1 2]\n",
      "[-2 -1  0  0  0]\n",
      "----------------------------------------------------------------------------------------------------\n",
      "[1 2 5 4 5]\n"
     ]
    },
    {
     "data": {
      "text/plain": "'\\n通用函数：\\nnumpy.sqrt(array)\\t平方根函数\\nnumpy.exp(array)\\te^array[i]的数组\\nnumpy.abs/fabs(array)\\t计算绝对值\\nnumpy.square(array)\\t计算各元素的平方 等于array\\t2\\nnumpy.log/log10/log2(array)\\t计算各元素的各种对数\\nnumpy.sign(array)\\t计算各元素正负号\\nnumpy.isnan(array)\\t计算各元素是否为NaN\\nnumpy.isinf(array)\\t计算各元素是否为NaN\\nnumpy.cos/cosh/sin/sinh/tan/tanh(array) 三角函数\\nnumpy.modf(array)\\t将array中值得整数和小数分离，作两个数组返回\\nnumpy.ceil(array)\\t向上取整,也就是取比这个数大的整数\\nnumpy.floor(array)\\t向下取整,也就是取比这个数小的整数\\nnumpy.rint(array)\\t四舍五入\\nnumpy.trunc(array)\\t向0取整\\nnumpy.cos(array)\\t正弦值\\nnumpy.sin(array)\\t余弦值\\nnumpy.tan(array)\\t正切值\\n\\nnumpy.add(array1,array2)\\t元素级加法\\nnumpy.subtract(array1,array2)\\t元素级减法\\nnumpy.multiply(array1,array2)\\t元素级乘法\\nnumpy.divide(array1,array2)\\t元素级除法 array1./array2\\nnumpy.power(array1,array2)\\t元素级指数 array1.^array2\\nnumpy.maximum/minimum(array1,aray2) 元素级最大值\\nnumpy.fmax/fmin(array1,array2)\\t元素级最大值，忽略NaN\\nnumpy.mod(array1,array2)\\t元素级求模\\nnumpy.copysign(array1,array2)\\t将第二个数组中值得符号复制给第一个数组中值\\nnumpy.greater/greater_equal/less/less_equal/equal/not_equal (array1,array2)\\n元素级比较运算，产生布尔数组\\nnumpy.logical_end/logical_or/logic_xor(array1,array2)元素级的真值逻辑运算\\n'"
     },
     "execution_count": 150,
     "metadata": {},
     "output_type": "execute_result"
    }
   ],
   "source": [
    "import numpy as np\n",
    "\n",
    "score = np.array([[85, 90], [82, 81], [75, 81]])\n",
    "print(score)\n",
    "# 1 获取所有数据最大值\n",
    "result = np.max(score)\n",
    "print(result)\n",
    "print(\"-\" * 100)\n",
    "# 2 获取某个轴上数据最大值，对应的轴就消失\n",
    "result = np.max(score, axis=1)\n",
    "print(result)\n",
    "print(\"-\" * 100)\n",
    "# 3 获取最小值\n",
    "result = np.min(score)\n",
    "print(result)\n",
    "print(\"-\" * 100)\n",
    "# 4 获取某一个轴上的数据最小值\n",
    "result = np.min(score, axis=0)\n",
    "print(result)\n",
    "print(\"-\" * 100)\n",
    "# 5 数据的比较\n",
    "result = np.maximum([-2, -1, 0, 1, 2], 0)  # 第一个参数中的每一个数与第二个参数中的数比较，返回较大的数\n",
    "print(result)\n",
    "result = np.minimum([-2, -1, 0, 1, 2], 0)  # 第一个参数中的每一个数与第二个参数中的数比较，返回较小的数\n",
    "print(result)\n",
    "print(\"-\" * 100)\n",
    "result = np.maximum([-2, -1, 5, 1, 2], [1, 2, 3, 4, 5])\n",
    "print(result)\n",
    "'''\n",
    "通用函数：\n",
    "numpy.sqrt(array)\t平方根函数\n",
    "numpy.exp(array)\te^array[i]的数组\n",
    "numpy.abs/fabs(array)\t计算绝对值\n",
    "numpy.square(array)\t计算各元素的平方 等于array\t2\n",
    "numpy.log/log10/log2(array)\t计算各元素的各种对数\n",
    "numpy.sign(array)\t计算各元素正负号\n",
    "numpy.isnan(array)\t计算各元素是否为NaN\n",
    "numpy.isinf(array)\t计算各元素是否为NaN\n",
    "numpy.cos/cosh/sin/sinh/tan/tanh(array) 三角函数\n",
    "numpy.modf(array)\t将array中值得整数和小数分离，作两个数组返回\n",
    "numpy.ceil(array)\t向上取整,也就是取比这个数大的整数\n",
    "numpy.floor(array)\t向下取整,也就是取比这个数小的整数\n",
    "numpy.rint(array)\t四舍五入\n",
    "numpy.trunc(array)\t向0取整\n",
    "numpy.cos(array)\t正弦值\n",
    "numpy.sin(array)\t余弦值\n",
    "numpy.tan(array)\t正切值\n",
    "\n",
    "numpy.add(array1,array2)\t元素级加法\n",
    "numpy.subtract(array1,array2)\t元素级减法\n",
    "numpy.multiply(array1,array2)\t元素级乘法\n",
    "numpy.divide(array1,array2)\t元素级除法 array1./array2\n",
    "numpy.power(array1,array2)\t元素级指数 array1.^array2\n",
    "numpy.maximum/minimum(array1,aray2) 元素级最大值\n",
    "numpy.fmax/fmin(array1,array2)\t元素级最大值，忽略NaN\n",
    "numpy.mod(array1,array2)\t元素级求模\n",
    "numpy.copysign(array1,array2)\t将第二个数组中值得符号复制给第一个数组中值\n",
    "numpy.greater/greater_equal/less/less_equal/equal/not_equal (array1,array2)\n",
    "元素级比较运算，产生布尔数组\n",
    "numpy.logical_end/logical_or/logic_xor(array1,array2)元素级的真值逻辑运算\n",
    "'''"
   ],
   "metadata": {
    "collapsed": false,
    "pycharm": {
     "name": "#%%\n"
    }
   }
  },
  {
   "cell_type": "code",
   "execution_count": 155,
   "outputs": [
    {
     "name": "stdout",
     "output_type": "stream",
     "text": [
      "82.33333333333333\n",
      "----------------------------------------------------------------------------------------------------\n",
      "[80.66666667 84.        ]\n",
      "----------------------------------------------------------------------------------------------------\n",
      "[[1 2 3]\n",
      " [4 5 6]]\n",
      "----------------------------------------------------------------------------------------------------\n",
      "[[1 2 3]\n",
      " [5 7 9]]\n"
     ]
    },
    {
     "data": {
      "text/plain": "'\\n[1 2 3] -------> [1 2 3]\\n[4 5 6] -------> [1+4 2+5 3+6]\\n最终输出：\\n[[1 2 3]\\n [5 7 9]]\\n'"
     },
     "execution_count": 155,
     "metadata": {},
     "output_type": "execute_result"
    }
   ],
   "source": [
    "# 6 求平均值\n",
    "result = np.mean(score)\n",
    "print(result)\n",
    "print(\"-\" * 100)\n",
    "result = np.mean(score, axis=0)\n",
    "print(result)\n",
    "print(\"-\" * 100)\n",
    "\n",
    "# 7 求前缀和\n",
    "arr = np.array([[1, 2, 3], [4, 5, 6]])\n",
    "print(arr)\n",
    "print(\"-\" * 100)\n",
    "print(arr.cumsum(axis=0))\n",
    "\"\"\"\n",
    "[1 2 3] -------> [1 2 3]\n",
    "[4 5 6] -------> [1+4 2+5 3+6]\n",
    "最终输出：\n",
    "[[1 2 3]\n",
    " [5 7 9]]\n",
    "\"\"\""
   ],
   "metadata": {
    "collapsed": false,
    "pycharm": {
     "name": "#%%\n"
    }
   }
  },
  {
   "cell_type": "code",
   "execution_count": 159,
   "outputs": [
    {
     "name": "stdout",
     "output_type": "stream",
     "text": [
      "[[85 90]\n",
      " [82 81]\n",
      " [75 81]]\n",
      "[2 1]\n",
      "[75 81]\n",
      "----------------------------------------------------------------------------------------------------\n",
      "[4.18993503 4.24264069]\n",
      "----------------------------------------------------------------------------------------------------\n",
      "15\n"
     ]
    }
   ],
   "source": [
    "# 8 argmin求最小值的索引\n",
    "result = np.argmin(score, axis=0)  # axis=0表示沿着列求最小值，返回的是索引\n",
    "res = np.min(score, axis=0)\n",
    "print(score)\n",
    "print(result)\n",
    "print(res)\n",
    "print(\"-\" * 100)\n",
    "\n",
    "# 9 求每一列的标准差（这里是总体标准差）\n",
    "# 标准差是一组数据平均值分散程度的一种度量。一个较大的标准差，代表大部分数值和其平均值的差距较大\n",
    "# 一个较小的标准差，代表数据集中数值分散较小，代表数据稳定，反之则代表数据不稳定。\n",
    "result = np.std(score, axis=0)  # axis=0表示沿着列求标准差\n",
    "print(result)\n",
    "print(\"-\" * 100)\n",
    "\n",
    "# 10 求最大值与最小值的差\n",
    "result = np.ptp(score, axis=None)  # 求最大值与最小值的差\n",
    "print(result)"
   ],
   "metadata": {
    "collapsed": false,
    "pycharm": {
     "name": "#%%\n"
    }
   }
  },
  {
   "cell_type": "code",
   "execution_count": 161,
   "outputs": [
    {
     "name": "stdout",
     "output_type": "stream",
     "text": [
      "[[ 0  1  2]\n",
      " [ 3  4  5]\n",
      " [ 6  7  8]\n",
      " [ 9 10 11]\n",
      " [12 13 14]\n",
      " [15 16 17]\n",
      " [18 19 20]\n",
      " [21 22 23]\n",
      " [24 25 26]\n",
      " [27 28 29]]\n"
     ]
    },
    {
     "data": {
      "text/plain": "array([13.5, 14.5, 15.5])"
     },
     "execution_count": 161,
     "metadata": {},
     "output_type": "execute_result"
    }
   ],
   "source": [
    "t = np.arange(30).reshape((10, 3))\n",
    "print(t)\n",
    "np.mean(t, axis=0)  # 求每一列的平均值"
   ],
   "metadata": {
    "collapsed": false,
    "pycharm": {
     "name": "#%%\n"
    }
   }
  },
  {
   "cell_type": "markdown",
   "source": [
    "# 数组的拼接"
   ],
   "metadata": {
    "collapsed": false,
    "pycharm": {
     "name": "#%% md\n"
    }
   }
  },
  {
   "cell_type": "code",
   "execution_count": 168,
   "outputs": [
    {
     "name": "stdout",
     "output_type": "stream",
     "text": [
      "沿着轴0连接两个数组：\n",
      "[[1 2]\n",
      " [3 4]\n",
      " [5 6]\n",
      " [7 8]]\n",
      "----------------------------------------------------------------------------------------------------\n",
      "沿着轴1连接三个数组：\n",
      "[[ 1  2  5  6  9 10]\n",
      " [ 3  4  7  8 11 12]]\n",
      "----------------------------------------------------------------------------------------------------\n",
      "[[[ 1  2]\n",
      "  [ 3  4]]\n",
      "\n",
      " [[ 5  6]\n",
      "  [ 7  8]]\n",
      "\n",
      " [[ 9 10]\n",
      "  [11 12]]]\n",
      "(3, 2, 2)\n",
      "----------------------------------------------------------------------------------------------------\n",
      "10\n",
      "沿轴0连接两个数组：\n",
      "[[[ 0  1  2  3]\n",
      "  [ 4  5  6  7]\n",
      "  [ 8  9 10 11]]\n",
      "\n",
      " [[ 0  1  2  3]\n",
      "  [ 4  5  6  7]\n",
      "  [ 8  9 10 11]]\n",
      "\n",
      " [[ 0  1  2  3]\n",
      "  [ 4  5  6  7]\n",
      "  [ 8  9 10 11]]\n",
      "\n",
      " [[ 0  1  2  3]\n",
      "  [ 4  5  6  7]\n",
      "  [ 8  9 10 11]]\n",
      "\n",
      " [[ 0  1  2  3]\n",
      "  [ 4  5  6  7]\n",
      "  [ 8  9 10 11]]\n",
      "\n",
      " [[ 0  1  2  3]\n",
      "  [ 4  5  6  7]\n",
      "  [ 8  9 10 11]]\n",
      "\n",
      " [[ 0  1  2  3]\n",
      "  [ 4  5  6  7]\n",
      "  [ 8  9 10 11]]\n",
      "\n",
      " [[ 0  1  2  3]\n",
      "  [ 4  5  6  7]\n",
      "  [ 8  9 10 11]]\n",
      "\n",
      " [[ 0  1  2  3]\n",
      "  [ 4  5  6  7]\n",
      "  [ 8  9 10 11]]\n",
      "\n",
      " [[ 0  1  2  3]\n",
      "  [ 4  5  6  7]\n",
      "  [ 8  9 10 11]]]\n",
      "(10, 3, 4)\n",
      "----------------------------------------------------------------------------------------------------\n"
     ]
    }
   ],
   "source": [
    "# 有时候我们需要将两个数据加起来一起研究分析，我们就可以将其进行拼接然后分析。\n",
    "import numpy as np\n",
    "\n",
    "# 1 根据轴连接的数组序列，concatenate()没有改变数组的维度\n",
    "a = np.array([[1, 2], [3, 4]])\n",
    "b = np.array([[5, 6], [7, 8]])\n",
    "c = np.array([[9, 10], [11, 12]])\n",
    "\n",
    "# 要求a b两个数组的维度相同\n",
    "print(\"沿着轴0连接两个数组：\")\n",
    "print(np.concatenate((a, b), axis=0))  # 写哪个轴哪个轴就发生变化\n",
    "print(\"-\" * 100)\n",
    "\n",
    "print(\"沿着轴1连接三个数组：\")\n",
    "print(np.concatenate((a, b, c), axis=1))\n",
    "print(\"-\" * 100)\n",
    "\n",
    "# 堆叠数组，stack()会改变数组的维度\n",
    "print(np.stack((a, b, c), axis=0))\n",
    "print(np.stack((a, b, c), axis=0).shape)\n",
    "print(\"-\" * 100)\n",
    "\n",
    "# 根据轴进行堆叠，二维会变成三维\n",
    "arrays = [np.arange(12).reshape(3, 4) for i in range(10)]\n",
    "print(len(arrays))\n",
    "print(\"沿轴0连接两个数组：\")\n",
    "result = np.stack(arrays, axis=0)  # 把列表中的数组元素沿着轴0进行堆叠\n",
    "print(result)\n",
    "print(result.shape)\n",
    "print(\"-\" * 100)\n"
   ],
   "metadata": {
    "collapsed": false,
    "pycharm": {
     "name": "#%%\n"
    }
   }
  },
  {
   "cell_type": "code",
   "execution_count": 172,
   "outputs": [
    {
     "name": "stdout",
     "output_type": "stream",
     "text": [
      "沿轴1连接两个数组：\n",
      "[[ 0  1  2  3]\n",
      " [ 4  5  6  7]\n",
      " [ 8  9 10 11]]\n",
      "----------------------------------------------------------------------------------------------------\n",
      "[[[ 0  1  2  3]\n",
      "  [ 0  1  2  3]\n",
      "  [ 0  1  2  3]\n",
      "  [ 0  1  2  3]\n",
      "  [ 0  1  2  3]\n",
      "  [ 0  1  2  3]\n",
      "  [ 0  1  2  3]\n",
      "  [ 0  1  2  3]\n",
      "  [ 0  1  2  3]\n",
      "  [ 0  1  2  3]]\n",
      "\n",
      " [[ 4  5  6  7]\n",
      "  [ 4  5  6  7]\n",
      "  [ 4  5  6  7]\n",
      "  [ 4  5  6  7]\n",
      "  [ 4  5  6  7]\n",
      "  [ 4  5  6  7]\n",
      "  [ 4  5  6  7]\n",
      "  [ 4  5  6  7]\n",
      "  [ 4  5  6  7]\n",
      "  [ 4  5  6  7]]\n",
      "\n",
      " [[ 8  9 10 11]\n",
      "  [ 8  9 10 11]\n",
      "  [ 8  9 10 11]\n",
      "  [ 8  9 10 11]\n",
      "  [ 8  9 10 11]\n",
      "  [ 8  9 10 11]\n",
      "  [ 8  9 10 11]\n",
      "  [ 8  9 10 11]\n",
      "  [ 8  9 10 11]\n",
      "  [ 8  9 10 11]]]\n",
      "(3, 10, 4)\n"
     ]
    }
   ],
   "source": [
    "print(\"沿轴1连接两个数组：\")\n",
    "print(arrays[0])\n",
    "print(\"-\" * 100)\n",
    "result = np.stack(arrays, axis=1)\n",
    "print(result)\n",
    "print(result.shape)"
   ],
   "metadata": {
    "collapsed": false,
    "pycharm": {
     "name": "#%%\n"
    }
   }
  },
  {
   "cell_type": "code",
   "execution_count": 174,
   "outputs": [
    {
     "name": "stdout",
     "output_type": "stream",
     "text": [
      "沿轴2连接两个数组：这里的-1和2是等价的\n",
      "[[ 0  1  2  3]\n",
      " [ 4  5  6  7]\n",
      " [ 8  9 10 11]]\n",
      "(3, 4, 10)\n",
      "----------------------------------------------------------------------------------------------------\n",
      "[[[ 0  0  0  0  0  0  0  0  0  0]\n",
      "  [ 1  1  1  1  1  1  1  1  1  1]\n",
      "  [ 2  2  2  2  2  2  2  2  2  2]\n",
      "  [ 3  3  3  3  3  3  3  3  3  3]]\n",
      "\n",
      " [[ 4  4  4  4  4  4  4  4  4  4]\n",
      "  [ 5  5  5  5  5  5  5  5  5  5]\n",
      "  [ 6  6  6  6  6  6  6  6  6  6]\n",
      "  [ 7  7  7  7  7  7  7  7  7  7]]\n",
      "\n",
      " [[ 8  8  8  8  8  8  8  8  8  8]\n",
      "  [ 9  9  9  9  9  9  9  9  9  9]\n",
      "  [10 10 10 10 10 10 10 10 10 10]\n",
      "  [11 11 11 11 11 11 11 11 11 11]]]\n"
     ]
    }
   ],
   "source": [
    "print(\"沿轴2连接两个数组：这里的-1和2是等价的\")\n",
    "result = np.stack(arrays, axis=-1)\n",
    "print(arrays[0])\n",
    "print(result.shape)\n",
    "print(\"-\" * 100)\n",
    "print(result)"
   ],
   "metadata": {
    "collapsed": false,
    "pycharm": {
     "name": "#%%\n"
    }
   }
  },
  {
   "cell_type": "code",
   "execution_count": 176,
   "outputs": [
    {
     "name": "stdout",
     "output_type": "stream",
     "text": [
      "[[ 0  1  2  3  4  5]\n",
      " [ 6  7  8  9 10 11]\n",
      " [12 13 14 15 16 17]\n",
      " [18 19 20 21 22 23]]\n",
      "----------------------------------------------------------------------------------------------------\n",
      "[[ 0  1  2  3  4  5 12 13 14 15 16 17]\n",
      " [ 6  7  8  9 10 11 18 19 20 21 22 23]]\n",
      "----------------------------------------------------------------------------------------------------\n"
     ]
    }
   ],
   "source": [
    "# 3 .矩阵垂直拼接，vstack没有增加维度，类似于concatenate(axis=0) -- vertical\n",
    "v1 = [[0, 1, 2, 3, 4, 5],\n",
    "      [6, 7, 8, 9, 10, 11]]\n",
    "v2 = [[12, 13, 14, 15, 16, 17],\n",
    "      [18, 19, 20, 21, 22, 23]]\n",
    "result = np.vstack((v1, v2))\n",
    "print(result)\n",
    "print(\"-\" * 100)\n",
    "\n",
    "# 4 .矩阵水平拼接，hstack没有增加维度，类似于concatenate(axis=1) -- horizontal\n",
    "h1 = [[0, 1, 2, 3, 4, 5],\n",
    "      [6, 7, 8, 9, 10, 11]]\n",
    "h2 = [[12, 13, 14, 15, 16, 17],\n",
    "      [18, 19, 20, 21, 22, 23]]\n",
    "result = np.hstack((h1, h2))\n",
    "print(result)\n",
    "print(\"-\" * 100)"
   ],
   "metadata": {
    "collapsed": false,
    "pycharm": {
     "name": "#%%\n"
    }
   }
  },
  {
   "cell_type": "markdown",
   "source": [
    "# 分割"
   ],
   "metadata": {
    "collapsed": false,
    "pycharm": {
     "name": "#%% md\n"
    }
   }
  },
  {
   "cell_type": "code",
   "execution_count": 178,
   "outputs": [
    {
     "name": "stdout",
     "output_type": "stream",
     "text": [
      "[[ 0  1  2]\n",
      " [ 3  4  5]\n",
      " [ 6  7  8]\n",
      " [ 9 10 11]]\n",
      "将数组分为三个大小相等的子数组：b是一个列表\n",
      "[array([[0],\n",
      "       [3],\n",
      "       [6],\n",
      "       [9]]), array([[ 1],\n",
      "       [ 4],\n",
      "       [ 7],\n",
      "       [10]]), array([[ 2],\n",
      "       [ 5],\n",
      "       [ 8],\n",
      "       [11]])]\n",
      "(4, 1)\n",
      "----------------------------------------------------------------------------------------------------\n"
     ]
    }
   ],
   "source": [
    "# 1 将一个数组分割成多个子数组，split()\n",
    "\"\"\"\n",
    "参数说明：\n",
    "arr：被分割的数组\n",
    "indices_or_sections：整数或整数数组，表示分割的位置。\n",
    "axis：整数，表示沿着哪个轴进行分割。\n",
    "\"\"\"\n",
    "import numpy as np\n",
    "\n",
    "arr = np.arange(12).reshape(4, 3)\n",
    "print(arr)\n",
    "print(\"将数组分为三个大小相等的子数组：b是一个列表\")\n",
    "b = np.split(arr, 3, axis=1)  # 按那个轴，哪个轴就发生变化，参数3表示分割成三个子数组\n",
    "print(b)\n",
    "print(b[0].shape)\n",
    "print(\"-\" * 100)"
   ],
   "metadata": {
    "collapsed": false,
    "pycharm": {
     "name": "#%%\n"
    }
   }
  },
  {
   "cell_type": "code",
   "execution_count": 181,
   "outputs": [
    {
     "name": "stdout",
     "output_type": "stream",
     "text": [
      "[array([[0, 1, 2]]), array([[3, 4, 5]]), array([[6, 7, 8]]), array([[ 9, 10, 11]])]\n"
     ]
    }
   ],
   "source": [
    "b = np.split(arr, 4, axis=0)\n",
    "print(b)"
   ],
   "metadata": {
    "collapsed": false,
    "pycharm": {
     "name": "#%%\n"
    }
   }
  },
  {
   "cell_type": "code",
   "execution_count": 184,
   "outputs": [
    {
     "name": "stdout",
     "output_type": "stream",
     "text": [
      "[array([[0],\n",
      "       [3],\n",
      "       [6],\n",
      "       [9]]), array([[ 1],\n",
      "       [ 4],\n",
      "       [ 7],\n",
      "       [10]]), array([[ 2],\n",
      "       [ 5],\n",
      "       [ 8],\n",
      "       [11]])]\n",
      "(4, 1)\n",
      "----------------------------------------------------------------------------------------------------\n"
     ]
    }
   ],
   "source": [
    "c = np.hsplit(arr, 3)  # 水平分割\n",
    "print(c)\n",
    "print(c[0].shape)\n",
    "print(\"-\" * 100)"
   ],
   "metadata": {
    "collapsed": false,
    "pycharm": {
     "name": "#%%\n"
    }
   }
  },
  {
   "cell_type": "code",
   "execution_count": 185,
   "outputs": [
    {
     "name": "stdout",
     "output_type": "stream",
     "text": [
      "[[0.98318114 0.89709136 0.08864115 0.18456059 0.13476496 0.06782338]\n",
      " [0.01240818 0.80823119 0.76422416 0.72408189 0.96424977 0.0913505 ]]\n"
     ]
    }
   ],
   "source": [
    "d = np.random.random((2, 6))\n",
    "print(d)"
   ],
   "metadata": {
    "collapsed": false,
    "pycharm": {
     "name": "#%%\n"
    }
   }
  },
  {
   "cell_type": "code",
   "execution_count": 186,
   "outputs": [
    {
     "name": "stdout",
     "output_type": "stream",
     "text": [
      "[[7. 6. 3. 8. 5. 9.]\n",
      " [2. 2. 7. 2. 8. 5.]]\n"
     ]
    }
   ],
   "source": [
    "harr = np.floor(10 * np.random.random((2, 6)))  # floor()函数向下取整\n",
    "print(harr)"
   ],
   "metadata": {
    "collapsed": false,
    "pycharm": {
     "name": "#%%\n"
    }
   }
  },
  {
   "cell_type": "code",
   "execution_count": 187,
   "outputs": [
    {
     "name": "stdout",
     "output_type": "stream",
     "text": [
      "第一个数组：\n",
      "[[ 0  1  2  3]\n",
      " [ 4  5  6  7]\n",
      " [ 8  9 10 11]\n",
      " [12 13 14 15]]\n",
      "----------------------------------------------------------------------------------------------------\n",
      "竖直分割：\n",
      "[array([[0, 1, 2, 3],\n",
      "       [4, 5, 6, 7]]), array([[ 8,  9, 10, 11],\n",
      "       [12, 13, 14, 15]])]\n",
      "(2, 4)\n",
      "----------------------------------------------------------------------------------------------------\n"
     ]
    }
   ],
   "source": [
    "a = np.arange(16).reshape(4, 4)\n",
    "\n",
    "print(\"第一个数组：\")\n",
    "print(a)\n",
    "print(\"-\" * 100)\n",
    "\n",
    "print(\"竖直分割：\")\n",
    "b = np.vsplit(a, 2)  # 竖直分割，分割成两个子数组\n",
    "print(b)\n",
    "print(b[0].shape)\n",
    "print(\"-\" * 100)"
   ],
   "metadata": {
    "collapsed": false,
    "pycharm": {
     "name": "#%%\n"
    }
   }
  },
  {
   "cell_type": "markdown",
   "source": [
    "# numpy inf 与 nan"
   ],
   "metadata": {
    "collapsed": false,
    "pycharm": {
     "name": "#%% md\n"
    }
   }
  },
  {
   "cell_type": "code",
   "execution_count": 189,
   "outputs": [
    {
     "name": "stdout",
     "output_type": "stream",
     "text": [
      "nan\n",
      "<class 'float'>\n",
      "inf\n",
      "<class 'float'>\n",
      "-inf\n",
      "<class 'float'>\n"
     ]
    }
   ],
   "source": [
    "\"\"\"\n",
    "C 语言中表示最大的正整数值是 0x7FFF FFFF，最小的负整数是 0x8000 0000。\n",
    "查阅资料后，发现 inf 表示无穷大，需要使用 float(‘inf’) 函数来转化，那么对应的就有\tfloat('-inf') 表示无穷小了。\n",
    "这样你就可以使用任意数来判断和它的关系了。\n",
    "那什么时候会出现inf呢？ 比如一个数字除以0，Python中会报错，但是numpy中会是一个inf或者-inf\n",
    "另外还有 nan，这种写法在 pandans 中常见，表示缺失的数据，所以一般用 nan 来表示。任何与其做运算结果都是 nan\n",
    "\"\"\"\n",
    "\n",
    "import numpy as np\n",
    "\n",
    "# nan 是not a number的缩写，表示非数字，在numpy中表示一个非数字值，可以用来表示缺失数据\n",
    "# 创建一个nan和inf\n",
    "a = np.nan\n",
    "b = np.inf\n",
    "c = -np.inf\n",
    "print(a)  # 非数字\n",
    "print(type(a))\n",
    "print(b)  # 正无穷\n",
    "print(type(b))\n",
    "print(c)  # 负无穷\n",
    "print(type(c))"
   ],
   "metadata": {
    "collapsed": false,
    "pycharm": {
     "name": "#%%\n"
    }
   }
  },
  {
   "cell_type": "code",
   "execution_count": 192,
   "outputs": [
    {
     "name": "stdout",
     "output_type": "stream",
     "text": [
      "False\n",
      "True\n",
      "True\n",
      "True\n"
     ]
    }
   ],
   "source": [
    "# 并且 np.nan !=  np.nan 结果是True\n",
    "# 所以我们可以使用这两个结合使用判断nan的个数:\n",
    "print(np.nan == np.nan)\n",
    "print(True == 1)\n",
    "print(False == 0)\n",
    "print(np.isnan(np.nan))  # 判断是否为nan"
   ],
   "metadata": {
    "collapsed": false,
    "pycharm": {
     "name": "#%%# 并且 np.nan != np.nan 结果是True\n"
    }
   }
  },
  {
   "cell_type": "code",
   "execution_count": 193,
   "outputs": [
    {
     "name": "stdout",
     "output_type": "stream",
     "text": [
      "[[ 0.  1.  2.  3.  4.  5.]\n",
      " [ 6.  7.  8.  9. 10. 11.]\n",
      " [12. 13. 14. 15. 16. 17.]\n",
      " [18. 19. 20. 21. nan 23.]]\n"
     ]
    }
   ],
   "source": [
    "# 判断数组中nan的个数\n",
    "t = np.arange(24, dtype=float).reshape(4, 6)\n",
    "\n",
    "# 将三行四列的数改为nan\n",
    "t[3, 4] = np.nan\n",
    "print(t)\n"
   ],
   "metadata": {
    "collapsed": false,
    "pycharm": {
     "name": "#%%# 判断数组中nan的个数\n"
    }
   }
  },
  {
   "cell_type": "code",
   "execution_count": 199,
   "outputs": [
    {
     "name": "stdout",
     "output_type": "stream",
     "text": [
      "23\n",
      "----------------------------------------------------------------------------------------------------\n",
      "[[False False False False False False]\n",
      " [False False False False False False]\n",
      " [False False False False False False]\n",
      " [False False False False  True False]]\n",
      "----------------------------------------------------------------------------------------------------\n",
      "1\n"
     ]
    }
   ],
   "source": [
    "# 可以使用np.count_nonzero()函数来统计非零元素的个数\n",
    "print(np.count_nonzero(t))  # 15\n",
    "print(\"-\" * 100)\n",
    "print(t != t)  # 如果元素不等于nan，则为True，否则为False\n",
    "print(\"-\" * 100)\n",
    "print(np.count_nonzero(t != t))  # 统计非nan元素的个数"
   ],
   "metadata": {
    "collapsed": false,
    "pycharm": {
     "name": "#%%\n"
    }
   }
  },
  {
   "cell_type": "code",
   "execution_count": 202,
   "outputs": [
    {
     "name": "stdout",
     "output_type": "stream",
     "text": [
      "[[ 0.  1.  2.  3.  4.  5.]\n",
      " [ 6.  7.  8.  9. 10. 11.]\n",
      " [12. 13. 14. 15. 16. 17.]\n",
      " [18. 19. 20. 21.  0. 23.]]\n"
     ]
    }
   ],
   "source": [
    "# 将nan替换为0\n",
    "# t[t != t] = 0\n",
    "t[np.isnan(t)] = 0\n",
    "print(t)\n"
   ],
   "metadata": {
    "collapsed": false,
    "pycharm": {
     "name": "#%%# 将nan替换为0\n"
    }
   }
  },
  {
   "cell_type": "code",
   "execution_count": 212,
   "outputs": [
    {
     "name": "stdout",
     "output_type": "stream",
     "text": [
      "[[ 0.  1.  2.  3.  4.  5.]\n",
      " [ 6.  7. nan nan 10. 11.]\n",
      " [12. nan nan 15. 16. 17.]\n",
      " [18. 19. 20. 21. 22. 23.]]\n",
      "6\n",
      "----------------------------------------------------------------------------------------------------\n",
      "[ 1.  7. 19.]\n",
      "[ 2. 20.]\n",
      "[ 3. 15. 21.]\n",
      "----------------------------------------------------------------------------------------------------\n",
      "[[ 0.  1.  2.  3.  4.  5.]\n",
      " [ 6.  7. 11. 13. 10. 11.]\n",
      " [12.  9. 11. 15. 16. 17.]\n",
      " [18. 19. 20. 21. 22. 23.]]\n",
      "----------------------------------------------------------------------------------------------------\n",
      "2665045209424\n"
     ]
    }
   ],
   "source": [
    "# --- 练习：处理数组中的nan\n",
    "t = np.arange(24).reshape(4, 6).astype(float)\n",
    "\n",
    "# 将数组中的一部分替换为nan\n",
    "t[1, 2:4] = np.nan\n",
    "t[2, 1:3] = np.nan\n",
    "print(t)\n",
    "print(t.shape[1])\n",
    "print(\"-\" * 100)\n",
    "# 遍历每一列，然后判断每一列是否有nan\n",
    "for i in range(t.shape[1]):\n",
    "    # 获取当前列数据\n",
    "    col = t[:, i]\n",
    "\n",
    "    # 判断当前列的数据中是否含有nan\n",
    "    # nan_num = np.count_nonzero(np.isnan(col))\n",
    "    nan_num = np.count_nonzero(col != col)\n",
    "    if nan_num != 0:\n",
    "        # 将这一列不为nan的数据拿出来，并计算平均值\n",
    "        col_no_nan = col[col == col]\n",
    "        print(col_no_nan)\n",
    "        # 将nan替换成这一列的平均值\n",
    "        col[np.isnan(col)] = np.mean(col_no_nan)\n",
    "print(\"-\" * 100)\n",
    "print(t)\n",
    "print(\"-\" * 100)\n",
    "print(id(t))"
   ],
   "metadata": {
    "collapsed": false,
    "pycharm": {
     "name": "#%%\n"
    }
   }
  },
  {
   "cell_type": "code",
   "execution_count": 213,
   "outputs": [
    {
     "name": "stdout",
     "output_type": "stream",
     "text": [
      "True\n"
     ]
    }
   ],
   "source": [
    "print(np.inf == np.inf)\n"
   ],
   "metadata": {
    "collapsed": false,
    "pycharm": {
     "name": "#%%\n"
    }
   }
  },
  {
   "cell_type": "code",
   "execution_count": 214,
   "outputs": [
    {
     "data": {
      "text/plain": "array([[ 0.,  2.,  4.,  6.,  8., 10.],\n       [12., 14., 16., nan, nan, nan],\n       [24., 26., 28., 30., 32., 34.],\n       [36., 38., 40., 42., 44., 46.]])"
     },
     "execution_count": 214,
     "metadata": {},
     "output_type": "execute_result"
    }
   ],
   "source": [
    "# np.nan和任何数据运算的结果都是nan\n",
    "t = np.arange(24).reshape(4, 6).astype(float)\n",
    "\n",
    "# 将数组中的一部分替换为nan\n",
    "t[1, 3:] = np.nan\n",
    "t1 = np.arange(24).reshape(4, 6).astype(float)\n",
    "t + t1"
   ],
   "metadata": {
    "collapsed": false,
    "pycharm": {
     "name": "#%%\n"
    }
   }
  },
  {
   "cell_type": "code",
   "execution_count": 215,
   "outputs": [
    {
     "name": "stdout",
     "output_type": "stream",
     "text": [
      "[-1  0]\n",
      "-inf\n"
     ]
    },
    {
     "name": "stderr",
     "output_type": "stream",
     "text": [
      "C:\\Users\\Administrator\\AppData\\Local\\Temp\\ipykernel_13092\\3781747794.py:3: RuntimeWarning: divide by zero encountered in long_scalars\n",
      "  print(arr[0] / arr[1])\n"
     ]
    }
   ],
   "source": [
    "arr = np.array([-1, 0])\n",
    "print(arr)\n",
    "print(arr[0] / arr[1])"
   ],
   "metadata": {
    "collapsed": false,
    "pycharm": {
     "name": "#%%\n"
    }
   }
  },
  {
   "cell_type": "code",
   "execution_count": 216,
   "outputs": [
    {
     "data": {
      "text/plain": "nan"
     },
     "execution_count": 216,
     "metadata": {},
     "output_type": "execute_result"
    }
   ],
   "source": [
    "np.nan + np.inf"
   ],
   "metadata": {
    "collapsed": false,
    "pycharm": {
     "name": "#%%\n"
    }
   }
  },
  {
   "cell_type": "markdown",
   "source": [
    "# 转置和轴滚动"
   ],
   "metadata": {
    "collapsed": false,
    "pycharm": {
     "name": "#%% md\n"
    }
   }
  },
  {
   "cell_type": "code",
   "execution_count": 218,
   "outputs": [
    {
     "name": "stdout",
     "output_type": "stream",
     "text": [
      "原数组：\n",
      "[[ 0  1  2  3]\n",
      " [ 4  5  6  7]\n",
      " [ 8  9 10 11]]\n",
      "----------------------------------------------------------------------------------------------------\n",
      "对换数组：\n",
      "[[ 0  4  8]\n",
      " [ 1  5  9]\n",
      " [ 2  6 10]\n",
      " [ 3  7 11]]\n",
      "[[ 0  1  2  3]\n",
      " [ 4  5  6  7]\n",
      " [ 8  9 10 11]]\n",
      "----------------------------------------------------------------------------------------------------\n",
      "原数组：\n",
      "[[ 0  1  2  3]\n",
      " [ 4  5  6  7]\n",
      " [ 8  9 10 11]]\n",
      "----------------------------------------------------------------------------------------------------\n",
      "转置后数组：\n",
      "[[ 0  4  8]\n",
      " [ 1  5  9]\n",
      " [ 2  6 10]\n",
      " [ 3  7 11]]\n"
     ]
    }
   ],
   "source": [
    "# 对换数组的维度\n",
    "import numpy as np\n",
    "\n",
    "a = np.arange(12).reshape(3, 4)\n",
    "print(\"原数组：\")\n",
    "print(a)\n",
    "print(\"-\" * 100)\n",
    "\n",
    "print(\"对换数组：\")\n",
    "print(np.transpose(a))  # 转置\n",
    "print(a)\n",
    "print(\"-\" * 100)\n",
    "\n",
    "# 与transpose函数一致\n",
    "print(\"原数组：\")\n",
    "print(a)\n",
    "print(\"-\" * 100)\n",
    "\n",
    "print(\"转置后数组：\")\n",
    "print(a.T)"
   ],
   "metadata": {
    "collapsed": false,
    "pycharm": {
     "name": "#%%\n"
    }
   }
  },
  {
   "cell_type": "code",
   "execution_count": 220,
   "outputs": [
    {
     "name": "stdout",
     "output_type": "stream",
     "text": [
      "[[ 0  1  2  3  4  5]\n",
      " [ 6  7  8  9 10 11]\n",
      " [12 13 14 15 16 17]\n",
      " [18 19 20 21 22 23]]\n",
      "----------------------------------------------------------------------------------------------------\n",
      "[[ 0  6 12 18]\n",
      " [ 1  7 13 19]\n",
      " [ 2  8 14 20]\n",
      " [ 3  9 15 21]\n",
      " [ 4 10 16 22]\n",
      " [ 5 11 17 23]]\n",
      "(6, 4)\n"
     ]
    }
   ],
   "source": [
    "# 函数用于交换数组的两个轴\n",
    "t1 = np.arange(24).reshape(4, 6)\n",
    "ret = t1.swapaxes(0, 1)  # 交换第0轴和第1轴\n",
    "print(t1)\n",
    "print(\"-\" * 100)\n",
    "print(ret)\n",
    "print(ret.shape)"
   ],
   "metadata": {
    "collapsed": false,
    "pycharm": {
     "name": "#%%\n"
    }
   }
  },
  {
   "cell_type": "code",
   "execution_count": 223,
   "outputs": [
    {
     "name": "stdout",
     "output_type": "stream",
     "text": [
      "(3, 4, 5)\n",
      "----------------------------------------------------------------------------------------------------\n",
      "(3, 5, 4)\n"
     ]
    }
   ],
   "source": [
    "t3 = np.arange(60).reshape(3, 4, 5)\n",
    "print(t3.shape)\n",
    "print(\"-\" * 100)\n",
    "t3 = np.swapaxes(t3, 1, 2)  # 交换第1轴和第2轴\n",
    "print(t3.shape)\n",
    "# print(t3)"
   ],
   "metadata": {
    "collapsed": false,
    "pycharm": {
     "name": "#%%\n"
    }
   }
  },
  {
   "cell_type": "code",
   "execution_count": 224,
   "outputs": [
    {
     "data": {
      "text/plain": "(3, 6, 4, 5)"
     },
     "execution_count": 224,
     "metadata": {},
     "output_type": "execute_result"
    }
   ],
   "source": [
    "# 数组的轴滚动，swapaxes()每次只能交换两个轴，没有rollaxis方便，默认情况下轴滚动最前面\n",
    "a = np.ones((3, 4, 5, 6))\n",
    "np.rollaxis(a, 3, 1).shape  # 将第3轴放到第1轴之前"
   ],
   "metadata": {
    "collapsed": false,
    "pycharm": {
     "name": "#%%\n"
    }
   }
  },
  {
   "cell_type": "code",
   "execution_count": 225,
   "outputs": [
    {
     "data": {
      "text/plain": "array([[1, 2, 3],\n       [1, 2, 3]])"
     },
     "execution_count": 225,
     "metadata": {},
     "output_type": "execute_result"
    }
   ],
   "source": [
    "# 数据拷贝，copy和赋值的区别\n",
    "b = np.array([[1, 2, 3], [1, 2, 3]])\n",
    "a = b.copy()  # 数组的拷贝\n",
    "a"
   ],
   "metadata": {
    "collapsed": false,
    "pycharm": {
     "name": "#%%\n"
    }
   }
  },
  {
   "cell_type": "code",
   "execution_count": 227,
   "outputs": [
    {
     "name": "stdout",
     "output_type": "stream",
     "text": [
      "[[3 2 3]\n",
      " [1 2 3]]\n"
     ]
    },
    {
     "data": {
      "text/plain": "array([[1, 2, 3],\n       [1, 2, 3]])"
     },
     "execution_count": 227,
     "metadata": {},
     "output_type": "execute_result"
    }
   ],
   "source": [
    "b[0, 0] = 3\n",
    "print(b)\n",
    "a"
   ],
   "metadata": {
    "collapsed": false,
    "pycharm": {
     "name": "#%%\n"
    }
   }
  },
  {
   "cell_type": "code",
   "execution_count": 228,
   "outputs": [
    {
     "name": "stdout",
     "output_type": "stream",
     "text": [
      "[[[0.26502441 0.6743974  0.81837116 0.48061142]\n",
      "  [0.10043376 0.11115348 0.71489483 0.57615409]\n",
      "  [0.27897653 0.02570505 0.645723   0.95357601]]\n",
      "\n",
      " [[0.11251538 0.85221296 0.97918489 0.21947207]\n",
      "  [0.9856699  0.85432466 0.21261745 0.34449119]\n",
      "  [0.11168219 0.04649874 0.23867934 0.42897174]]]\n"
     ]
    }
   ],
   "source": [
    "# 随机数的生成\n",
    "arr = np.random.rand(2, 3, 4)  # 产生2*3*4的随机数组\n",
    "print(arr)"
   ],
   "metadata": {
    "collapsed": false,
    "pycharm": {
     "name": "#%%\n"
    }
   }
  }
 ],
 "metadata": {
  "kernelspec": {
   "display_name": "Python 3",
   "language": "python",
   "name": "python3"
  },
  "language_info": {
   "codemirror_mode": {
    "name": "ipython",
    "version": 2
   },
   "file_extension": ".py",
   "mimetype": "text/x-python",
   "name": "python",
   "nbconvert_exporter": "python",
   "pygments_lexer": "ipython2",
   "version": "2.7.6"
  }
 },
 "nbformat": 4,
 "nbformat_minor": 0
}