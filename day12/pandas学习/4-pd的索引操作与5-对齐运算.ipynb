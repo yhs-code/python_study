{
 "cells": [
  {
   "cell_type": "code",
   "execution_count": 1,
   "metadata": {
    "collapsed": true,
    "pycharm": {
     "name": "#%%\n"
    }
   },
   "outputs": [],
   "source": [
    "import numpy as np\n",
    "import pandas as pd\n"
   ]
  },
  {
   "cell_type": "code",
   "execution_count": 9,
   "outputs": [
    {
     "name": "stdout",
     "output_type": "stream",
     "text": [
      "   A          B    C  D       E        F\n",
      "0  1 2019-09-26  1.0  1  Python  wangdao\n",
      "1  1 2019-09-26  1.0  2    Java  wangdao\n",
      "2  1 2019-09-26  1.0  3     C++  wangdao\n",
      "3  1 2019-09-26  1.0  4       C  wangdao\n",
      "----------------------------------------------------------------------------------------------------\n",
      "Int64Index([0, 1, 2, 3], dtype='int64')\n",
      "b\n",
      "----------------------------------------------------------------------------------------------------\n",
      "   A          B    C  D       E        F\n",
      "a  1 2019-09-26  1.0  1  Python  wangdao\n",
      "b  1 2019-09-26  1.0  2    Java  wangdao\n",
      "c  1 2019-09-26  1.0  3     C++  wangdao\n",
      "d  1 2019-09-26  1.0  4       C  wangdao\n"
     ]
    }
   ],
   "source": [
    "dict_data = {'A': 1,\n",
    "             'B': pd.Timestamp('20190926'),\n",
    "             'C': pd.Series(1, index=list(range(4)), dtype='float32'),\n",
    "             'D': np.array([1, 2, 3, 4], dtype='int32'),\n",
    "             'E': [\"Python\", \"Java\", \"C++\", \"C\"],\n",
    "             'F': 'wangdao'}\n",
    "df_obj2 = pd.DataFrame(dict_data)\n",
    "print(df_obj2)\n",
    "print(\"-\" * 100)\n",
    "\n",
    "print(df_obj2.index)\n",
    "# 索引对象的值不可变单独改变\n",
    "# df_obj2.index[1] = 'a' # 单独修改会报错\n",
    "df_obj2.index = ['a', 'b', 'c', 'd']\n",
    "print(df_obj2.index[1])\n",
    "print(\"-\" * 100)\n",
    "print(df_obj2)"
   ],
   "metadata": {
    "collapsed": false,
    "pycharm": {
     "name": "#%%\n"
    }
   }
  },
  {
   "cell_type": "markdown",
   "source": [
    "# 3常见的index种类\n",
    " index，索引，可以是各种类型，Int64Index整数型索引、MultiIndex多级索引、DatetimeIndex日期型索引、\n",
    " TimedeltaIndex时间差型索引、PeriodIndex时间段型索引、CategoricalIndex分类型索引。"
   ],
   "metadata": {
    "collapsed": false,
    "pycharm": {
     "name": "#%% md\n"
    }
   }
  },
  {
   "cell_type": "code",
   "execution_count": 10,
   "outputs": [
    {
     "name": "stdout",
     "output_type": "stream",
     "text": [
      "a    0\n",
      "b    1\n",
      "c    2\n",
      "d    3\n",
      "e    4\n",
      "dtype: int64\n"
     ]
    },
    {
     "data": {
      "text/plain": "Index(['a', 'b', 'c', 'd', 'e'], dtype='object')"
     },
     "execution_count": 10,
     "metadata": {},
     "output_type": "execute_result"
    }
   ],
   "source": [
    "ser_obj = pd.Series(range(5), index=list('abcde'))\n",
    "print(ser_obj)\n",
    "ser_obj.index"
   ],
   "metadata": {
    "collapsed": false,
    "pycharm": {
     "name": "#%%\n"
    }
   }
  },
  {
   "cell_type": "code",
   "execution_count": 13,
   "outputs": [
    {
     "name": "stdout",
     "output_type": "stream",
     "text": [
      "1\n",
      "2\n"
     ]
    }
   ],
   "source": [
    "# 行索引，不仅可以用索引名，还可以用索引位置来取值\n",
    "print(ser_obj['b'])  # 索引名\n",
    "print(ser_obj[2])  # 位置索引"
   ],
   "metadata": {
    "collapsed": false,
    "pycharm": {
     "name": "#%%\n"
    }
   }
  },
  {
   "cell_type": "code",
   "execution_count": 14,
   "outputs": [
    {
     "name": "stdout",
     "output_type": "stream",
     "text": [
      "1\n",
      "2\n"
     ]
    }
   ],
   "source": [
    "print(ser_obj.loc['b'])  # 索引名\n",
    "print(ser_obj.iloc[2])  # 位置索引"
   ],
   "metadata": {
    "collapsed": false,
    "pycharm": {
     "name": "#%%\n"
    }
   }
  },
  {
   "cell_type": "code",
   "execution_count": 16,
   "outputs": [
    {
     "name": "stdout",
     "output_type": "stream",
     "text": [
      "b    1\n",
      "c    2\n",
      "dtype: int64\n",
      "----------------------------------------------------------------------------------------------------\n",
      "b    1\n",
      "c    2\n",
      "d    3\n",
      "dtype: int64\n"
     ]
    }
   ],
   "source": [
    "# 切片索引\n",
    "print(ser_obj.iloc[1:3])  # 索引位置取数据，左闭右开\n",
    "print(\"-\" * 100)\n",
    "print(ser_obj.loc['b':'d'])  # 左闭右闭"
   ],
   "metadata": {
    "collapsed": false,
    "pycharm": {
     "name": "#%%\n"
    }
   }
  },
  {
   "cell_type": "code",
   "execution_count": 18,
   "outputs": [
    {
     "name": "stdout",
     "output_type": "stream",
     "text": [
      "a    0\n",
      "c    2\n",
      "e    4\n",
      "dtype: int64\n",
      "a    0\n",
      "e    4\n",
      "dtype: int64\n"
     ]
    }
   ],
   "source": [
    "# 不连续索引\n",
    "print(ser_obj.iloc[[0, 2, 4]])\n",
    "print(ser_obj.loc[['a', 'e']])"
   ],
   "metadata": {
    "collapsed": false,
    "pycharm": {
     "name": "#%%\n"
    }
   }
  },
  {
   "cell_type": "code",
   "execution_count": 22,
   "outputs": [
    {
     "name": "stdout",
     "output_type": "stream",
     "text": [
      "a    False\n",
      "b    False\n",
      "c    False\n",
      "d     True\n",
      "e     True\n",
      "dtype: bool\n",
      "----------------------------------------------------------------------------------------------------\n",
      "a    0\n",
      "b    1\n",
      "c    2\n",
      "d    3\n",
      "e    4\n",
      "dtype: int64\n",
      "----------------------------------------------------------------------------------------------------\n",
      "d    3\n",
      "e    4\n",
      "dtype: int64\n"
     ]
    }
   ],
   "source": [
    "ser_bool = ser_obj > 2\n",
    "print(ser_bool)\n",
    "print(\"-\" * 100)\n",
    "print(ser_obj)\n",
    "print(\"-\" * 100)\n",
    "print(ser_obj[ser_bool])"
   ],
   "metadata": {
    "collapsed": false,
    "pycharm": {
     "name": "#%%\n"
    }
   }
  },
  {
   "cell_type": "markdown",
   "source": [
    "# 4.4 DataFrame索引"
   ],
   "metadata": {
    "collapsed": false,
    "pycharm": {
     "name": "#%% md\n"
    }
   }
  },
  {
   "cell_type": "code",
   "execution_count": 26,
   "outputs": [
    {
     "name": "stdout",
     "output_type": "stream",
     "text": [
      "          a         b         c         d\n",
      "0  1.058916 -1.014796 -0.926641 -0.039745\n",
      "1 -0.734368 -0.261974 -1.096072 -0.021988\n",
      "2  0.871637 -1.834009  0.258395  1.353127\n",
      "3  0.625288 -0.826401  1.198160 -0.815037\n",
      "4 -1.335403 -0.208477 -0.880649  0.166628\n"
     ]
    }
   ],
   "source": [
    "import numpy as np\n",
    "\n",
    "df_obj = pd.DataFrame(np.random.randn(5, 4),\n",
    "                      columns=['a', 'b', 'c', 'd'])\n",
    "print(df_obj)"
   ],
   "metadata": {
    "collapsed": false,
    "pycharm": {
     "name": "#%%\n"
    }
   }
  },
  {
   "cell_type": "code",
   "execution_count": 27,
   "outputs": [
    {
     "name": "stdout",
     "output_type": "stream",
     "text": [
      "0    1.058916\n",
      "1   -0.734368\n",
      "2    0.871637\n",
      "3    0.625288\n",
      "4   -1.335403\n",
      "Name: a, dtype: float64\n",
      "----------------------------------------------------------------------------------------------------\n",
      "<class 'pandas.core.series.Series'>\n"
     ]
    }
   ],
   "source": [
    "# 列索引\n",
    "print(df_obj['a'])\n",
    "print(\"-\" * 100)\n",
    "print(type(df_obj['a']))"
   ],
   "metadata": {
    "collapsed": false,
    "pycharm": {
     "name": "#%%\n"
    }
   }
  },
  {
   "cell_type": "markdown",
   "source": [
    "# 1 loc标签索引（通过索引标签值获取数据）"
   ],
   "metadata": {
    "collapsed": false,
    "pycharm": {
     "name": "#%% md\n"
    }
   }
  },
  {
   "cell_type": "code",
   "execution_count": 32,
   "outputs": [
    {
     "name": "stdout",
     "output_type": "stream",
     "text": [
      "a    0\n",
      "b    1\n",
      "c    2\n",
      "d    3\n",
      "e    4\n",
      "dtype: int64\n",
      "----------------------------------------------------------------------------------------------------\n",
      "b    1\n",
      "c    2\n",
      "d    3\n",
      "e    4\n",
      "dtype: int64\n",
      "b    1\n",
      "c    2\n",
      "d    3\n",
      "e    4\n",
      "dtype: int64\n"
     ]
    }
   ],
   "source": [
    "# 标签索引loc，建议使用loc，效率更高\n",
    "print(ser_obj)\n",
    "print(\"-\" * 100)\n",
    "print(ser_obj['b':'e'])\n",
    "print(ser_obj.loc['b':'e'])\n"
   ],
   "metadata": {
    "collapsed": false,
    "pycharm": {
     "name": "#%%\n"
    }
   }
  },
  {
   "cell_type": "code",
   "execution_count": 37,
   "outputs": [
    {
     "name": "stdout",
     "output_type": "stream",
     "text": [
      "          a         b         c         d\n",
      "a  1.266522  2.307817 -0.411407 -1.053079\n",
      "b -0.896303 -0.793904  0.859958 -0.014839\n",
      "c -0.084316  1.363286  0.303198 -0.798835\n",
      "d -1.015379 -0.417620  0.716708 -0.647672\n",
      "e  0.783017  1.095168  0.451933 -0.708704\n",
      "----------------------------------------------------------------------------------------------------\n",
      "a    1.266522\n",
      "b   -0.896303\n",
      "c   -0.084316\n",
      "d   -1.015379\n",
      "e    0.783017\n",
      "Name: a, dtype: float64\n",
      "----------------------------------------------------------------------------------------------------\n",
      "a    1.266522\n",
      "b    2.307817\n",
      "c   -0.411407\n",
      "d   -1.053079\n",
      "Name: a, dtype: float64\n",
      "a    1.266522\n",
      "b    2.307817\n",
      "c   -0.411407\n",
      "d   -1.053079\n",
      "Name: a, dtype: float64\n",
      "----------------------------------------------------------------------------------------------------\n"
     ]
    }
   ],
   "source": [
    "df_obj = pd.DataFrame(np.random.randn(5, 4), columns=list('abcd'), index=list('abcde'))\n",
    "print(df_obj)\n",
    "print(\"-\" * 100)\n",
    "print(df_obj['a'])  # 建议不用，拿的是列\n",
    "print(\"-\" * 100)\n",
    "print(df_obj.loc['a'])  # 拿的是行\n",
    "print(df_obj.iloc[0])  # 根据下标拿行\n",
    "print(\"-\" * 100)\n"
   ],
   "metadata": {
    "collapsed": false,
    "pycharm": {
     "name": "#%%\n"
    }
   }
  },
  {
   "cell_type": "code",
   "execution_count": 42,
   "outputs": [
    {
     "name": "stdout",
     "output_type": "stream",
     "text": [
      "          b         c         d\n",
      "a  2.307817 -0.411407 -1.053079\n",
      "b -0.793904  0.859958 -0.014839\n",
      "c  1.363286  0.303198 -0.798835\n",
      "          b         d\n",
      "a  2.307817 -1.053079\n",
      "c  1.363286 -0.798835\n",
      "          d\n",
      "c -0.798835\n",
      "1.3632858464084114\n"
     ]
    }
   ],
   "source": [
    "# 第一个参数索引行，第二个参数是列，loc或者iloc效率高于直接用取下标的方式，前闭后闭\n",
    "print(df_obj.loc['a':'c', 'b':'d'])  # 连续索引\n",
    "print(df_obj.loc[['a', 'c'], ['b', 'd']])  # 不连续索引\n",
    "print(df_obj.loc[['c'], ['d']])  # 取一个值，返回的是DataFrame类型\n",
    "print(df_obj.loc['c', 'b'])  # 取一个值"
   ],
   "metadata": {
    "collapsed": false,
    "pycharm": {
     "name": "#%%\n"
    }
   }
  },
  {
   "cell_type": "markdown",
   "source": [
    "# iloc位置索引（推荐使用）"
   ],
   "metadata": {
    "collapsed": false,
    "pycharm": {
     "name": "#%% md\n"
    }
   }
  },
  {
   "cell_type": "code",
   "execution_count": 44,
   "outputs": [
    {
     "name": "stdout",
     "output_type": "stream",
     "text": [
      "a    0\n",
      "b    1\n",
      "c    2\n",
      "d    3\n",
      "e    4\n",
      "dtype: int64\n",
      "----------------------------------------------------------------------------------------------------\n",
      "b    1\n",
      "c    2\n",
      "d    3\n",
      "dtype: int64\n"
     ]
    }
   ],
   "source": [
    "print(ser_obj)\n",
    "print(\"-\" * 100)\n",
    "print(ser_obj.iloc[1:4])  # 左闭右开\n"
   ],
   "metadata": {
    "collapsed": false,
    "pycharm": {
     "name": "#%%\n"
    }
   }
  },
  {
   "cell_type": "code",
   "execution_count": 49,
   "outputs": [
    {
     "name": "stdout",
     "output_type": "stream",
     "text": [
      "          a         b         c         d\n",
      "a  1.266522  2.307817 -0.411407 -1.053079\n",
      "b -0.896303 -0.793904  0.859958 -0.014839\n",
      "c -0.084316  1.363286  0.303198 -0.798835\n",
      "d -1.015379 -0.417620  0.716708 -0.647672\n",
      "e  0.783017  1.095168  0.451933 -0.708704\n",
      "----------------------------------------------------------------------------------------------------\n",
      "          b         c         d\n",
      "a  2.307817 -0.411407 -1.053079\n",
      "b -0.793904  0.859958 -0.014839\n",
      "c  1.363286  0.303198 -0.798835\n",
      "d -0.417620  0.716708 -0.647672\n",
      "e  1.095168  0.451933 -0.708704\n",
      "          b         c\n",
      "a  2.307817 -0.411407\n",
      "c  1.363286  0.303198\n",
      "-0.7939037085392668\n"
     ]
    }
   ],
   "source": [
    "print(df_obj)\n",
    "print(\"-\" * 100)\n",
    "print(df_obj.iloc[0:5, 1:])\n",
    "print(df_obj.iloc[[0, 2], [1, 2]])  # 不连续索引\n",
    "print(df_obj.iloc[1, 1])  # 取一个值"
   ],
   "metadata": {
    "collapsed": false,
    "pycharm": {
     "name": "#%%\n"
    }
   }
  },
  {
   "cell_type": "code",
   "execution_count": 54,
   "outputs": [
    {
     "name": "stdout",
     "output_type": "stream",
     "text": [
      "          0         1         2         3\n",
      "0 -1.063766 -0.763581  1.285401 -1.535369\n",
      "1 -0.446599 -0.320998  0.753852 -0.647754\n",
      "2  1.093268  0.043503  0.868179  0.109623\n",
      "3  1.956939 -0.248388  1.062383 -0.082060\n",
      "4 -0.289081 -0.349230  0.587493  0.681094\n",
      "----------------------------------------------------------------------------------------------------\n",
      "          0         1         2         3\n",
      "0 -1.063766 -0.763581  1.285401 -1.535369\n",
      "1 -0.446599 -0.320998  0.753852 -0.647754\n",
      "2  1.093268  0.043503  0.868179  0.109623\n",
      "3  1.956939 -0.248388  1.062383 -0.082060\n",
      "----------------------------------------------------------------------------------------------------\n",
      "          0         1         2         3\n",
      "1 -0.446599 -0.320998  0.753852 -0.647754\n",
      "2  1.093268  0.043503  0.868179  0.109623\n"
     ]
    }
   ],
   "source": [
    "# 没有设置行和列索引的DataFrame，iloc和loc的区别\n",
    "df_obj2 = pd.DataFrame(np.random.randn(5, 4))\n",
    "print(df_obj2)\n",
    "print(\"-\" * 100)\n",
    "print(df_obj2.loc[0:3])\n",
    "print(\"-\" * 100)\n",
    "print(df_obj2.iloc[1:3])\n"
   ],
   "metadata": {
    "collapsed": false,
    "pycharm": {
     "name": "#%%\n"
    }
   }
  },
  {
   "cell_type": "markdown",
   "source": [
    "# 5 对齐运算"
   ],
   "metadata": {
    "collapsed": false,
    "pycharm": {
     "name": "#%% md\n"
    }
   }
  },
  {
   "cell_type": "code",
   "execution_count": 57,
   "outputs": [
    {
     "name": "stdout",
     "output_type": "stream",
     "text": [
      "s1+s2 = \n",
      "0    30.0\n",
      "1    32.0\n",
      "2    34.0\n",
      "3    36.0\n",
      "4    38.0\n",
      "5     NaN\n",
      "6     NaN\n",
      "7     NaN\n",
      "8     NaN\n",
      "9     NaN\n",
      "dtype: float64\n"
     ]
    }
   ],
   "source": [
    "import numpy as np\n",
    "import pandas as pd\n",
    "\n",
    "s1 = pd.Series(range(10, 20), index=range(10))\n",
    "s2 = pd.Series(range(20, 25), index=range(5))\n",
    "\n",
    "print(\"s1+s2 = \")\n",
    "s3 = s1 + s2\n",
    "print(s3)"
   ],
   "metadata": {
    "collapsed": false,
    "pycharm": {
     "name": "#%%\n"
    }
   }
  },
  {
   "cell_type": "code",
   "execution_count": 58,
   "outputs": [
    {
     "name": "stdout",
     "output_type": "stream",
     "text": [
      "(5,)\n",
      "[2 3 4 5 6]\n"
     ]
    }
   ],
   "source": [
    "# 两个长度不同的ndarray相加\n",
    "a1 = np.array([1, 2, 3, 4, 5])\n",
    "a2 = np.array([1])\n",
    "print(s2.shape)\n",
    "print(a1 + a2)"
   ],
   "metadata": {
    "collapsed": false,
    "pycharm": {
     "name": "#%%\n"
    }
   }
  },
  {
   "cell_type": "code",
   "execution_count": 66,
   "outputs": [
    {
     "name": "stdout",
     "output_type": "stream",
     "text": [
      "True\n",
      "----------------------------------------------------------------------------------------------------\n",
      "0    30.0\n",
      "1    32.0\n",
      "2    34.0\n",
      "3    36.0\n",
      "4    38.0\n",
      "5    15.0\n",
      "6    16.0\n",
      "7    17.0\n",
      "8    18.0\n",
      "9    19.0\n",
      "dtype: float64\n",
      "0    10.0\n",
      "1    10.0\n",
      "2    10.0\n",
      "3    10.0\n",
      "4    10.0\n",
      "5   -15.0\n",
      "6   -16.0\n",
      "7   -17.0\n",
      "8   -18.0\n",
      "9   -19.0\n",
      "dtype: float64\n"
     ]
    }
   ],
   "source": [
    "s1 = pd.Series(range(10, 20), index=range(10))\n",
    "s2 = pd.Series(range(20, 25), index=range(5))\n",
    "s3 = s1 + s2\n",
    "print(np.isnan(s3[6]))\n",
    "print(\"-\" * 100)\n",
    "print(s2.add(s1, fill_value=0))  # 未对齐的数据将和填充值做运算\n",
    "print(s2.sub(s1, fill_value=0))\n",
    "print(\"-\" * 100)"
   ],
   "metadata": {
    "collapsed": false,
    "pycharm": {
     "name": "#%%\n"
    }
   }
  },
  {
   "cell_type": "code",
   "execution_count": 73,
   "outputs": [
    {
     "name": "stdout",
     "output_type": "stream",
     "text": [
      "     a    b\n",
      "0  1.0  1.0\n",
      "1  1.0  1.0\n",
      "----------------------------------------------------------------------------------------------------\n",
      "     a    b    c\n",
      "0  1.0  1.0  1.0\n",
      "1  1.0  1.0  1.0\n",
      "2  1.0  1.0  1.0\n",
      "----------------------------------------------------------------------------------------------------\n",
      "a    float64\n",
      "b    float64\n",
      "c    float64\n",
      "dtype: object\n",
      "----------------------------------------------------------------------------------------------------\n",
      "     a    b   c\n",
      "0  0.0  0.0 NaN\n",
      "1  0.0  0.0 NaN\n",
      "2  NaN  NaN NaN\n",
      "     a    b    c\n",
      "0  0.0  0.0 -1.0\n",
      "1  0.0  0.0 -1.0\n",
      "2 -1.0 -1.0 -1.0\n"
     ]
    }
   ],
   "source": [
    "# df的对齐运算\n",
    "import numpy as np\n",
    "\n",
    "df1 = pd.DataFrame(np.ones((2, 2)), columns=['a', 'b'])\n",
    "df2 = pd.DataFrame(np.ones((3, 3)), columns=['a', 'b', 'c'])\n",
    "print(df1)\n",
    "print(\"-\" * 100)\n",
    "print(df2)\n",
    "print(\"-\" * 100)\n",
    "print(df2.dtypes)\n",
    "print(\"-\" * 100)\n",
    "print(df1 - df2)\n",
    "print(df2.sub(df1, fill_value=2))  # 为对齐的数据和填充做运算"
   ],
   "metadata": {
    "collapsed": false,
    "pycharm": {
     "name": "#%%\n"
    }
   }
  }
 ],
 "metadata": {
  "kernelspec": {
   "display_name": "Python 3",
   "language": "python",
   "name": "python3"
  },
  "language_info": {
   "codemirror_mode": {
    "name": "ipython",
    "version": 2
   },
   "file_extension": ".py",
   "mimetype": "text/x-python",
   "name": "python",
   "nbconvert_exporter": "python",
   "pygments_lexer": "ipython2",
   "version": "2.7.6"
  }
 },
 "nbformat": 4,
 "nbformat_minor": 0
}