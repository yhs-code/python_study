{
 "cells": [
  {
   "cell_type": "code",
   "execution_count": 1,
   "metadata": {
    "collapsed": true,
    "pycharm": {
     "name": "#%%\n"
    }
   },
   "outputs": [],
   "source": [
    "import pandas as pd"
   ]
  },
  {
   "cell_type": "markdown",
   "source": [
    "# 2 Series"
   ],
   "metadata": {
    "collapsed": false,
    "pycharm": {
     "name": "#%% md\n"
    }
   }
  },
  {
   "cell_type": "code",
   "execution_count": 2,
   "outputs": [
    {
     "name": "stdout",
     "output_type": "stream",
     "text": [
      "0    10\n",
      "1    11\n",
      "2    12\n",
      "3    13\n",
      "4    14\n",
      "5    15\n",
      "6    16\n",
      "7    17\n",
      "8    18\n",
      "9    19\n",
      "dtype: int64\n"
     ]
    }
   ],
   "source": [
    "# 生成一个Series\n",
    "ser_obj = pd.Series(range(10, 20))  # 默认索引是0-9\n",
    "print(ser_obj)  # 打印输出会带有类型"
   ],
   "metadata": {
    "collapsed": false,
    "pycharm": {
     "name": "#%%\n"
    }
   }
  },
  {
   "cell_type": "code",
   "execution_count": 8,
   "outputs": [
    {
     "name": "stdout",
     "output_type": "stream",
     "text": [
      "[10 11 12 13 14 15 16 17 18 19]\n",
      "<class 'numpy.ndarray'>\n",
      "RangeIndex(start=0, stop=10, step=1)\n"
     ]
    },
    {
     "data": {
      "text/plain": "dtype('int64')"
     },
     "execution_count": 8,
     "metadata": {},
     "output_type": "execute_result"
    }
   ],
   "source": [
    "# 获取数据\n",
    "print(ser_obj.values)\n",
    "print(type(ser_obj.values))\n",
    "\n",
    "# 获取索引\n",
    "print(ser_obj.index)  # 内部自带类型--RangeIndex\n",
    "ser_obj.dtype"
   ],
   "metadata": {
    "collapsed": false,
    "pycharm": {
     "name": "#%%\n"
    }
   }
  },
  {
   "cell_type": "code",
   "execution_count": 12,
   "outputs": [
    {
     "name": "stdout",
     "output_type": "stream",
     "text": [
      "10\n"
     ]
    },
    {
     "data": {
      "text/plain": "19"
     },
     "execution_count": 12,
     "metadata": {},
     "output_type": "execute_result"
    }
   ],
   "source": [
    "print(ser_obj[0])\n",
    "ser_obj[9]\n",
    "# 访问不存在索引下标会报keyerror"
   ],
   "metadata": {
    "collapsed": false,
    "pycharm": {
     "name": "#%%\n"
    }
   }
  },
  {
   "cell_type": "code",
   "execution_count": 15,
   "outputs": [
    {
     "name": "stdout",
     "output_type": "stream",
     "text": [
      "0    20\n",
      "1    22\n",
      "2    24\n",
      "3    26\n",
      "4    28\n",
      "5    30\n",
      "6    32\n",
      "7    34\n",
      "8    36\n",
      "9    38\n",
      "dtype: int64\n",
      "----------------------------------------------------------------------------------------------------\n",
      "0    False\n",
      "1    False\n",
      "2    False\n",
      "3    False\n",
      "4    False\n",
      "5    False\n",
      "6     True\n",
      "7     True\n",
      "8     True\n",
      "9     True\n",
      "dtype: bool\n"
     ]
    }
   ],
   "source": [
    "print(ser_obj * 2)  # 元素级乘法\n",
    "print(\"-\" * 100)\n",
    "print(ser_obj > 15)  # 返回一个bool序列"
   ],
   "metadata": {
    "collapsed": false,
    "pycharm": {
     "name": "#%%\n"
    }
   }
  },
  {
   "cell_type": "code",
   "execution_count": 20,
   "outputs": [
    {
     "name": "stdout",
     "output_type": "stream",
     "text": [
      "2001    17.8\n",
      "2005    20.1\n",
      "2003    16.5\n",
      "dtype: float64\n",
      "----------------------------------------------------------------------------------------------------\n",
      "Int64Index([2001, 2005, 2003], dtype='int64')\n",
      "----------------------------------------------------------------------------------------------------\n",
      "17.8\n",
      "----------------------------------------------------------------------------------------------------\n",
      "[17.8 20.1 16.5]\n"
     ]
    }
   ],
   "source": [
    "# 字典变为series，索引是字典的key，value是字典的value，感受非默认索引\n",
    "year_data = {2001: 17.8, 2005: 20.1, 2003: 16.5}\n",
    "ser_obj2 = pd.Series(year_data)\n",
    "print(ser_obj2)\n",
    "print(\"-\" * 100)\n",
    "print(ser_obj2.index)\n",
    "print(\"-\" * 100)\n",
    "print(ser_obj2[2001])\n",
    "print(\"-\" * 100)\n",
    "print(ser_obj2.values)\n"
   ],
   "metadata": {
    "collapsed": false,
    "pycharm": {
     "name": "#%%\n"
    }
   }
  },
  {
   "cell_type": "code",
   "execution_count": 25,
   "outputs": [
    {
     "name": "stdout",
     "output_type": "stream",
     "text": [
      "temp\n",
      "year\n",
      "----------------------------------------------------------------------------------------------------\n",
      "year\n",
      "2001    17.8\n",
      "2005    20.1\n",
      "2003    16.5\n",
      "Name: temp, dtype: float64\n"
     ]
    }
   ],
   "source": [
    "# 有点鸡肋的功能介绍\n",
    "print(ser_obj2.name)  # series的名字\n",
    "print(ser_obj2.index.name)  # 索引名字\n",
    "ser_obj2.name = 'temp'\n",
    "ser_obj2.index.name = 'year'\n",
    "print(\"-\" * 100)\n",
    "print(ser_obj2.head())"
   ],
   "metadata": {
    "collapsed": false,
    "pycharm": {
     "name": "#%%\n"
    }
   }
  },
  {
   "cell_type": "markdown",
   "source": [
    "# 3 DataFrame"
   ],
   "metadata": {
    "collapsed": false,
    "pycharm": {
     "name": "#%% md\n"
    }
   }
  },
  {
   "cell_type": "code",
   "execution_count": 35,
   "outputs": [
    {
     "name": "stdout",
     "output_type": "stream",
     "text": [
      "   0  1   2   3\n",
      "0  0  1   2   3\n",
      "1  4  5   6   7\n",
      "2  8  9  10  11\n",
      "----------------------------------------------------------------------------------------------------\n",
      "0    4\n",
      "1    5\n",
      "2    6\n",
      "3    7\n",
      "Name: 1, dtype: int32\n",
      "----------------------------------------------------------------------------------------------------\n",
      "0    1\n",
      "1    5\n",
      "2    9\n",
      "Name: 1, dtype: int32\n"
     ]
    }
   ],
   "source": [
    "import numpy as np\n",
    "\n",
    "# 通过ndarray构建DataFrame\n",
    "t = pd.DataFrame(np.arange(12).reshape(3, 4))  # 默认索引是0-2\n",
    "print(t)\n",
    "print(\"-\" * 100)\n",
    "print(t.loc[1])  # 单独把一行取出来，类型是series\n",
    "print(\"-\" * 100)\n",
    "print(t.loc[:, 1])  # 单独取出一列"
   ],
   "metadata": {
    "collapsed": false,
    "pycharm": {
     "name": "#%%\n"
    }
   }
  },
  {
   "cell_type": "code",
   "execution_count": 30,
   "outputs": [
    {
     "name": "stdout",
     "output_type": "stream",
     "text": [
      "[[-1.62958698 -0.94516892 -0.20722952 -1.3296112 ]\n",
      " [-0.0722564  -0.65083688 -0.02499286  1.41952532]\n",
      " [-0.11774451 -0.57208432  1.78963988  1.28040135]\n",
      " [ 1.13723424  0.21889934  0.01212634 -0.68993828]\n",
      " [-0.21649007 -0.71689887  0.78377189  0.40941247]\n",
      " [ 1.48861736 -1.64079488 -1.47943233  0.92851407]\n",
      " [-0.79581992 -1.46473642  1.1660837   0.10663436]]\n",
      "----------------------------------------------------------------------------------------------------\n",
      "          0         1         2         3\n",
      "0 -1.629587 -0.945169 -0.207230 -1.329611\n",
      "1 -0.072256 -0.650837 -0.024993  1.419525\n",
      "2 -0.117745 -0.572084  1.789640  1.280401\n",
      "3  1.137234  0.218899  0.012126 -0.689938\n",
      "4 -0.216490 -0.716899  0.783772  0.409412\n",
      "----------------------------------------------------------------------------------------------------\n",
      "          0         1         2         3\n",
      "0 -1.629587 -0.945169 -0.207230 -1.329611\n",
      "1 -0.072256 -0.650837 -0.024993  1.419525\n",
      "2 -0.117745 -0.572084  1.789640  1.280401\n",
      "3  1.137234  0.218899  0.012126 -0.689938\n",
      "4 -0.216490 -0.716899  0.783772  0.409412\n",
      "5  1.488617 -1.640795 -1.479432  0.928514\n",
      "6 -0.795820 -1.464736  1.166084  0.106634\n"
     ]
    }
   ],
   "source": [
    "array = np.random.randn(7, 4)\n",
    "print(array)\n",
    "print(\"-\" * 100)\n",
    "df_obj = pd.DataFrame(array)\n",
    "print(df_obj.head())  # 默认显示前5行\n",
    "print(\"-\" * 100)\n",
    "print(df_obj)"
   ],
   "metadata": {
    "collapsed": false,
    "pycharm": {
     "name": "#%%\n"
    }
   }
  },
  {
   "cell_type": "code",
   "execution_count": 41,
   "outputs": [
    {
     "name": "stdout",
     "output_type": "stream",
     "text": [
      "       name   age      tel\n",
      "0  xiaohong  22.0  10010.0\n",
      "1  zhangsan   NaN  10000.0\n",
      "2  xiaowang  23.0      NaN\n",
      "<class 'numpy.ndarray'>\n",
      "----------------------------------------------------------------------------------------------------\n",
      "[['xiaohong' 22.0 10010.0]\n",
      " ['zhangsan' nan 10000.0]\n",
      " ['xiaowang' 23.0 nan]]\n",
      "----------------------------------------------------------------------------------------------------\n",
      "RangeIndex(start=0, stop=3, step=1)\n",
      "----------------------------------------------------------------------------------------------------\n"
     ]
    }
   ],
   "source": [
    "# 列表套字典 变df\n",
    "d2 = [{\"name\": \"xiaohong\", \"age\": 22, \"tel\": 10010},\n",
    "      {\"name\": \"zhangsan\", \"tel\": 10000},\n",
    "      {\"name\": \"xiaowang\", \"age\": 23}]\n",
    "\n",
    "df6 = pd.DataFrame(d2)\n",
    "print(df6)  # 缺失值会用nan来填充\n",
    "print(type(df6.values))\n",
    "print(\"-\" * 100)\n",
    "print(df6.values)\n",
    "print(\"-\" * 100)\n",
    "print(df6.index)\n",
    "print(\"-\" * 100)"
   ],
   "metadata": {
    "collapsed": false,
    "pycharm": {
     "name": "#%%\n"
    }
   }
  },
  {
   "cell_type": "code",
   "execution_count": 42,
   "outputs": [
    {
     "data": {
      "text/plain": "3    1.0\n4    1.0\n5    1.0\n6    1.0\ndtype: float32"
     },
     "execution_count": 42,
     "metadata": {},
     "output_type": "execute_result"
    }
   ],
   "source": [
    "pd.Series(1, index=list(range(3, 7)), dtype='float32')"
   ],
   "metadata": {
    "collapsed": false,
    "pycharm": {
     "name": "#%%\n"
    }
   }
  },
  {
   "cell_type": "code",
   "execution_count": 55,
   "outputs": [
    {
     "name": "stdout",
     "output_type": "stream",
     "text": [
      "   A          B    C  D       E        F\n",
      "0  1 2019-09-26  1.0  1  Python  wangdao\n",
      "1  1 2019-09-26  1.0  2    Java  wangdao\n",
      "2  1 2019-09-26  1.0  3     C++  wangdao\n",
      "3  1 2019-09-26  1.0  4       C  wangdao\n"
     ]
    }
   ],
   "source": [
    "# df中不同列可以是不同的数据类型，同一列必须是一个数据类型\n",
    "import pandas as pd\n",
    "import numpy as np\n",
    "\n",
    "dict_data = {'A': 1,\n",
    "             'B': pd.Timestamp('20190926'),\n",
    "             'C': pd.Series(1, index=list(range(4)), dtype='float32'),\n",
    "             'D': np.array([1, 2, 3, 4], dtype='int32'),\n",
    "             'E': [\"Python\", \"Java\", \"C++\", \"C\"],\n",
    "             'F': 'wangdao'}\n",
    "df_obj2 = pd.DataFrame(dict_data)\n",
    "print(df_obj2)"
   ],
   "metadata": {
    "collapsed": false,
    "pycharm": {
     "name": "#%%\n"
    }
   }
  },
  {
   "cell_type": "code",
   "execution_count": 56,
   "outputs": [
    {
     "name": "stdout",
     "output_type": "stream",
     "text": [
      "Int64Index([0, 1, 2, 3], dtype='int64')\n",
      "Index(['A', 'B', 'C', 'D', 'E', 'F'], dtype='object')\n"
     ]
    },
    {
     "data": {
      "text/plain": "A             int64\nB    datetime64[ns]\nC           float32\nD             int32\nE            object\nF            object\ndtype: object"
     },
     "execution_count": 56,
     "metadata": {},
     "output_type": "execute_result"
    }
   ],
   "source": [
    "print(df_obj2.index)  # 行索引\n",
    "print(df_obj2.columns)\n",
    "df_obj2.dtypes  # 数据类型"
   ],
   "metadata": {
    "collapsed": false,
    "pycharm": {
     "name": "#%%\n"
    }
   }
  },
  {
   "cell_type": "code",
   "execution_count": 62,
   "outputs": [
    {
     "name": "stdout",
     "output_type": "stream",
     "text": [
      "                   A         B         C         D\n",
      "2013-01-01 -0.401436 -0.229505  0.496768  0.332348\n",
      "2013-01-02  1.165775 -0.634487  1.441721 -0.088407\n",
      "2013-01-03  0.365227 -1.328374  1.010454  0.423365\n",
      "2013-01-04  0.795187 -0.773066  1.289874 -0.327123\n",
      "2013-01-05  1.449419 -0.110597 -0.844148 -0.482689\n",
      "2013-01-06  0.671745  0.259030  0.680095  3.129528\n",
      "----------------------------------------------------------------------------------------------------\n",
      "DatetimeIndex(['2013-01-01', '2013-01-02', '2013-01-03', '2013-01-04',\n",
      "               '2013-01-05', '2013-01-06'],\n",
      "              dtype='datetime64[ns]', freq='D')\n",
      "<class 'pandas.core.frame.DataFrame'>\n",
      "<class 'pandas.core.indexes.datetimes.DatetimeIndex'>\n",
      "<class 'pandas.core.indexes.base.Index'>\n"
     ]
    }
   ],
   "source": [
    "# 感受日期，初始化df，设置行索引，列索引\n",
    "dates = pd.date_range('20130101', periods=6)\n",
    "df = pd.DataFrame(np.random.randn(6, 4), index=dates, columns=list('ABCD'))\n",
    "print(df)\n",
    "print(\"-\" * 100)\n",
    "print(df.index)\n",
    "print(type(df))\n",
    "print(type(df.index))\n",
    "print(type(df.columns))"
   ],
   "metadata": {
    "collapsed": false,
    "pycharm": {
     "name": "#%%\n"
    }
   }
  },
  {
   "cell_type": "code",
   "execution_count": 69,
   "outputs": [
    {
     "name": "stdout",
     "output_type": "stream",
     "text": [
      "   A          B    C  D       E        F\n",
      "0  1 2019-09-26  1.0  1  Python  wangdao\n",
      "1  1 2019-09-26  1.0  2    Java  wangdao\n",
      "2  1 2019-09-26  1.0  3     C++  wangdao\n",
      "3  1 2019-09-26  1.0  4       C  wangdao\n",
      "----------------------------------------------------------------------------------------------------\n",
      "<class 'pandas.core.frame.DataFrame'>\n",
      "----------------------------------------------------------------------------------------------------\n",
      "A                      1\n",
      "B    2019-09-26 00:00:00\n",
      "C                    1.0\n",
      "D                      1\n",
      "E                 Python\n",
      "F                wangdao\n",
      "Name: 0, dtype: object\n",
      "----------------------------------------------------------------------------------------------------\n",
      "0   2019-09-26\n",
      "1   2019-09-26\n",
      "2   2019-09-26\n",
      "3   2019-09-26\n",
      "Name: B, dtype: datetime64[ns]\n",
      "----------------------------------------------------------------------------------------------------\n",
      "<class 'pandas.core.series.Series'>\n"
     ]
    }
   ],
   "source": [
    "dict_data = {'A': 1,\n",
    "             'B': pd.Timestamp('20190926'),\n",
    "             'C': pd.Series(1, index=list(range(4)), dtype='float32'),\n",
    "             'D': np.array([1, 2, 3, 4], dtype='int32'),\n",
    "             'E': [\"Python\", \"Java\", \"C++\", \"C\"],\n",
    "             'F': 'wangdao'}\n",
    "df_onj2 = pd.DataFrame(dict_data)\n",
    "print(df_obj2)\n",
    "print(\"-\" * 100)\n",
    "print(type(df_obj2))\n",
    "print(\"-\" * 100)\n",
    "# pd中使用索引来取某一行或者列\n",
    "print(df_obj2.loc[0])  # 取第一行\n",
    "print(\"-\" * 100)\n",
    "print(df_obj2['B'])\n",
    "print(\"-\" * 100)\n",
    "print(type(df_obj2['B']))"
   ],
   "metadata": {
    "collapsed": false,
    "pycharm": {
     "name": "#%%\n"
    }
   }
  },
  {
   "cell_type": "code",
   "execution_count": 70,
   "outputs": [
    {
     "name": "stdout",
     "output_type": "stream",
     "text": [
      "   A          B    C  D       E        F  G\n",
      "0  1 2019-09-26  1.0  1  Python  wangdao  5\n",
      "1  1 2019-09-26  1.0  2    Java  wangdao  6\n",
      "2  1 2019-09-26  1.0  3     C++  wangdao  7\n",
      "3  1 2019-09-26  1.0  4       C  wangdao  8\n"
     ]
    }
   ],
   "source": [
    "# 增加列数据，列名是自定义的\n",
    "df_obj2['G'] = df_obj2['D'] + 4\n",
    "print(df_obj2)"
   ],
   "metadata": {
    "collapsed": false,
    "pycharm": {
     "name": "#%%\n"
    }
   }
  },
  {
   "cell_type": "code",
   "execution_count": 71,
   "outputs": [
    {
     "name": "stdout",
     "output_type": "stream",
     "text": [
      "   A          B    C  D       E        F\n",
      "0  1 2019-09-26  1.0  1  Python  wangdao\n",
      "1  1 2019-09-26  1.0  2    Java  wangdao\n",
      "2  1 2019-09-26  1.0  3     C++  wangdao\n",
      "3  1 2019-09-26  1.0  4       C  wangdao\n"
     ]
    }
   ],
   "source": [
    "# 删除列数据\n",
    "del (df_obj2['G'])\n",
    "print(df_obj2)"
   ],
   "metadata": {
    "collapsed": false,
    "pycharm": {
     "name": "#%%\n"
    }
   }
  }
 ],
 "metadata": {
  "kernelspec": {
   "display_name": "Python 3",
   "language": "python",
   "name": "python3"
  },
  "language_info": {
   "codemirror_mode": {
    "name": "ipython",
    "version": 2
   },
   "file_extension": ".py",
   "mimetype": "text/x-python",
   "name": "python",
   "nbconvert_exporter": "python",
   "pygments_lexer": "ipython2",
   "version": "2.7.6"
  }
 },
 "nbformat": 4,
 "nbformat_minor": 0
}