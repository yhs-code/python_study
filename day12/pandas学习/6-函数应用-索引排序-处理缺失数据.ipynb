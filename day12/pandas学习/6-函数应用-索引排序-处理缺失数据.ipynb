{
 "cells": [
  {
   "cell_type": "markdown",
   "source": [
    "# 6 Pandas的函数应用"
   ],
   "metadata": {
    "collapsed": false,
    "pycharm": {
     "name": "#%% md\n"
    }
   }
  },
  {
   "cell_type": "code",
   "execution_count": 10,
   "metadata": {
    "collapsed": true,
    "pycharm": {
     "name": "#%%\n"
    }
   },
   "outputs": [
    {
     "name": "stdout",
     "output_type": "stream",
     "text": [
      "          0         1         2         3\n",
      "0 -2.234334 -2.094441  0.606715 -1.287387\n",
      "1  0.314688 -1.407676 -2.420805 -1.193059\n",
      "2 -2.077430 -2.568874 -0.582940 -2.359218\n",
      "3 -2.177423 -1.868837 -0.436159 -1.172174\n",
      "4 -1.228451 -3.575611 -0.433009 -2.772940\n",
      "----------------------------------------------------------------------------------------------------\n",
      "          0         1         2         3\n",
      "0  2.234334  2.094441  0.606715  1.287387\n",
      "1  0.314688  1.407676  2.420805  1.193059\n",
      "2  2.077430  2.568874  0.582940  2.359218\n",
      "3  2.177423  1.868837  0.436159  1.172174\n",
      "4  1.228451  3.575611  0.433009  2.772940\n",
      "----------------------------------------------------------------------------------------------------\n",
      "0    0.314688\n",
      "1   -1.407676\n",
      "2    0.606715\n",
      "3   -1.172174\n",
      "dtype: float64\n",
      "----------------------------------------------------------------------------------------------------\n",
      "0    0.606715\n",
      "1    0.314688\n",
      "2   -0.582940\n",
      "3   -0.436159\n",
      "4   -0.433009\n",
      "dtype: float64\n",
      "----------------------------------------------------------------------------------------------------\n",
      "       0      1      2      3\n",
      "0  -2.23  -2.09   0.61  -1.29\n",
      "1   0.31  -1.41  -2.42  -1.19\n",
      "2  -2.08  -2.57  -0.58  -2.36\n",
      "3  -2.18  -1.87  -0.44  -1.17\n",
      "4  -1.23  -3.58  -0.43  -2.77\n"
     ]
    }
   ],
   "source": [
    "import numpy as np\n",
    "import pandas as pd\n",
    "\n",
    "# numpy ufunc函数，randn跟的是维数\n",
    "df = pd.DataFrame(np.random.randn(5, 4) - 1)\n",
    "print(df)\n",
    "print(\"-\" * 100)\n",
    "print(np.abs(df))\n",
    "print(\"-\" * 100)\n",
    "# apply默认作用在列上，x是每一列，因为axis=0\n",
    "print(df.apply(lambda x: x.max()))\n",
    "print(\"-\" * 100)\n",
    "print(df.apply(lambda x: x.max(), axis=1))  # axis=1表示作用在行上\n",
    "print(\"-\" * 100)\n",
    "print(df.applymap(lambda x: '%.2f' % x))  # applymap作用在每个元素上"
   ]
  },
  {
   "cell_type": "markdown",
   "source": [
    "# 6.4 索引排序（不重要）"
   ],
   "metadata": {
    "collapsed": false,
    "pycharm": {
     "name": "#%% md\n"
    }
   }
  },
  {
   "cell_type": "code",
   "execution_count": 20,
   "outputs": [
    {
     "name": "stdout",
     "output_type": "stream",
     "text": [
      "[3 3 3 1 4]\n",
      "----------------------------------------------------------------------------------------------------\n",
      "2    0\n",
      "0    1\n",
      "3    2\n",
      "0    3\n",
      "0    4\n",
      "dtype: int64\n",
      "----------------------------------------------------------------------------------------------------\n",
      "0    1\n",
      "0    3\n",
      "0    4\n",
      "2    0\n",
      "3    2\n",
      "dtype: int64\n",
      "----------------------------------------------------------------------------------------------------\n",
      "2    0\n",
      "0    1\n",
      "3    2\n",
      "0    3\n",
      "0    4\n",
      "dtype: int64\n",
      "----------------------------------------------------------------------------------------------------\n",
      "2    0\n",
      "0    1\n",
      "3    2\n",
      "dtype: int64\n"
     ]
    }
   ],
   "source": [
    "# Series\n",
    "print(np.random.randint(5, size=5))\n",
    "print(\"-\" * 100)\n",
    "s4 = pd.Series(range(5), index=np.random.randint(5, size=5))\n",
    "print(s4)\n",
    "print(\"-\" * 100)\n",
    "# 索引排序，sort_index返回一个新的排好索引的Series\n",
    "print(s4.sort_index())\n",
    "print(\"-\" * 100)\n",
    "print(s4)\n",
    "print(\"-\" * 100)\n",
    "print(s4.iloc[0:3])"
   ],
   "metadata": {
    "collapsed": false,
    "pycharm": {
     "name": "#%%\n"
    }
   }
  },
  {
   "cell_type": "code",
   "execution_count": 24,
   "outputs": [
    {
     "name": "stdout",
     "output_type": "stream",
     "text": [
      "          0         3         4         2         3\n",
      "2 -0.173916  1.224009  0.458904  1.171089  0.217429\n",
      "2 -0.444430  0.129921  0.285294 -0.860084 -0.171724\n",
      "4  0.817999  1.644636  0.524371 -0.588175 -1.294124\n",
      "2  1.081619  0.150042  0.803723 -1.313770  0.563771\n",
      "0 -1.910546 -0.122703  0.097040  0.223301 -0.378628\n",
      "----------------------------------------------------------------------------------------------------\n",
      "          0         3         4         2         3\n",
      "4  0.817999  1.644636  0.524371 -0.588175 -1.294124\n",
      "2 -0.173916  1.224009  0.458904  1.171089  0.217429\n",
      "2 -0.444430  0.129921  0.285294 -0.860084 -0.171724\n",
      "2  1.081619  0.150042  0.803723 -1.313770  0.563771\n",
      "0 -1.910546 -0.122703  0.097040  0.223301 -0.378628\n",
      "          4         3         3         2         0\n",
      "2  0.458904  1.224009  0.217429  1.171089 -0.173916\n",
      "2  0.285294  0.129921 -0.171724 -0.860084 -0.444430\n",
      "4  0.524371  1.644636 -1.294124 -0.588175  0.817999\n",
      "2  0.803723  0.150042  0.563771 -1.313770  1.081619\n",
      "0  0.097040 -0.122703 -0.378628  0.223301 -1.910546\n"
     ]
    }
   ],
   "source": [
    "# DataFrame\n",
    "df4 = pd.DataFrame(np.random.randn(5, 5),\n",
    "                   index=np.random.randint(5, size=5),\n",
    "                   columns=np.random.randint(5, size=5))\n",
    "print(df4)\n",
    "print(\"-\" * 100)\n",
    "# 轴零时行索引排序\n",
    "df4_isort = df4.sort_index(axis=0, ascending=False)  # ascending=False表示降序\n",
    "print(df4_isort)\n",
    "# 轴一时列索引排序\n",
    "df4_csort = df4.sort_index(axis=1, ascending=False)\n",
    "print(df4_csort)"
   ],
   "metadata": {
    "collapsed": false,
    "pycharm": {
     "name": "#%%\n"
    }
   }
  },
  {
   "cell_type": "markdown",
   "source": [
    "# # 6.5 按值排序（机器学习，深度学习不重要，数据分析才需要）"
   ],
   "metadata": {
    "collapsed": false,
    "pycharm": {
     "name": "#%% md\n"
    }
   }
  },
  {
   "cell_type": "code",
   "execution_count": 27,
   "outputs": [
    {
     "name": "stdout",
     "output_type": "stream",
     "text": [
      "    0   1   2   3\n",
      "0  15  36  58  52\n",
      "1   4  86  10  24\n",
      "2   3  56  63  57\n",
      "3  25  16  38  51\n",
      "4  91  15  45  79\n",
      "5  53  81  39  99\n",
      "----------------------------------------------------------------------------------------------------\n",
      "    0   1   2   3\n",
      "5  53  81  39  99\n",
      "4  91  15  45  79\n",
      "2   3  56  63  57\n",
      "0  15  36  58  52\n",
      "3  25  16  38  51\n",
      "1   4  86  10  24\n"
     ]
    }
   ],
   "source": [
    "# 按值排序，by后是column的值\n",
    "import random\n",
    "\n",
    "l = [random.randint(0, 100) for i in range(24)]\n",
    "df4 = pd.DataFrame(np.array(l).reshape(6, 4))\n",
    "print(df4)\n",
    "print(\"-\" * 100)\n",
    "df4_vsort = df4.sort_values(by=3, axis=0, ascending=False)  # 按第四列的值排序，降序\n",
    "print(df4_vsort)\n",
    "df4_vsort = df4.sort_values(by=2, axis=1, ascending=True)  # 按第三列的值排序，降序"
   ],
   "metadata": {
    "collapsed": false,
    "pycharm": {
     "name": "#%% md6# 按值排序，by后是column的值\n"
    }
   }
  },
  {
   "cell_type": "markdown",
   "source": [
    "# 6.6 处理缺失数据（重要）"
   ],
   "metadata": {
    "collapsed": false,
    "pycharm": {
     "name": "#%% md\n"
    }
   }
  },
  {
   "cell_type": "code",
   "execution_count": 37,
   "outputs": [
    {
     "name": "stdout",
     "output_type": "stream",
     "text": [
      "          0         1         2\n",
      "0  0.000571 -1.220256 -1.153879\n",
      "1  1.000000  2.000000       NaN\n",
      "2       NaN  4.000000       NaN\n",
      "3  1.000000  2.000000  3.000000\n",
      "----------------------------------------------------------------------------------------------------\n",
      "nan\n",
      "----------------------------------------------------------------------------------------------------\n",
      "       0      1      2\n",
      "0  False  False  False\n",
      "1  False  False   True\n",
      "2   True  False   True\n",
      "3  False  False  False\n",
      "----------------------------------------------------------------------------------------------------\n",
      "0    0.25\n",
      "1    0.00\n",
      "2    0.50\n",
      "dtype: float64\n",
      "----------------------------------------------------------------------------------------------------\n",
      "0    0.000000\n",
      "1    0.333333\n",
      "2    0.666667\n",
      "3    0.000000\n",
      "dtype: float64\n"
     ]
    }
   ],
   "source": [
    "df_data = pd.DataFrame([np.random.randn(3), [1, 2., np.nan], [np.nan, 4., np.nan], [1., 2., 3.]])\n",
    "print(df_data)\n",
    "print(\"-\" * 100)\n",
    "print(df_data.iloc[2, 0])\n",
    "print(\"-\" * 100)\n",
    "print(df_data.isnull())\n",
    "print(\"-\" * 100)\n",
    "# 计算df_data的缺失率\n",
    "print(df_data.isnull().sum() / len(df_data))\n",
    "print(\"-\" * 100)\n",
    "# 计算df_data的行的缺失率\n",
    "print(df_data.isnull().sum(axis=1) / len(df_data.columns))"
   ],
   "metadata": {
    "collapsed": false,
    "pycharm": {
     "name": "#%% md# df_data = pd.Da\n"
    }
   }
  },
  {
   "cell_type": "markdown",
   "source": [
    "# 删除缺失数据"
   ],
   "metadata": {
    "collapsed": false,
    "pycharm": {
     "name": "#%% md\n"
    }
   }
  },
  {
   "cell_type": "code",
   "execution_count": 41,
   "outputs": [
    {
     "name": "stdout",
     "output_type": "stream",
     "text": [
      "          0         1         2\n",
      "0  0.000571 -1.220256 -1.153879\n",
      "1  1.000000  2.000000       NaN\n",
      "2       NaN  4.000000       NaN\n",
      "3  1.000000  2.000000  3.000000\n",
      "----------------------------------------------------------------------------------------------------\n",
      "          0         1         2\n",
      "0  0.000571 -1.220256 -1.153879\n",
      "1  1.000000  2.000000       NaN\n",
      "3  1.000000  2.000000  3.000000\n",
      "----------------------------------------------------------------------------------------------------\n",
      "          1\n",
      "0 -1.220256\n",
      "1  2.000000\n",
      "2  4.000000\n",
      "3  2.000000\n"
     ]
    }
   ],
   "source": [
    "# 默认一个样本，任何一个特征缺失，就删除\n",
    "# inplace=True表示直接修改df_data\n",
    "# subset=[0]是按第一列来删除，第一列有空值就删除对应的行\n",
    "print(df_data)\n",
    "print(\"-\" * 100)\n",
    "print(df_data.dropna(subset=[0]))\n",
    "print(\"-\" * 100)\n",
    "print(df_data.dropna(axis=1))"
   ],
   "metadata": {
    "collapsed": false,
    "pycharm": {
     "name": "#%%\n"
    }
   }
  },
  {
   "cell_type": "markdown",
   "source": [
    "# 填充缺失数据"
   ],
   "metadata": {
    "collapsed": false,
    "pycharm": {
     "name": "#%% md\n"
    }
   }
  },
  {
   "cell_type": "code",
   "execution_count": 46,
   "outputs": [
    {
     "name": "stdout",
     "output_type": "stream",
     "text": [
      "0      0.000571\n",
      "1      1.000000\n",
      "2   -100.000000\n",
      "3      1.000000\n",
      "Name: 0, dtype: float64\n",
      "----------------------------------------------------------------------------------------------------\n",
      "          0         1         2\n",
      "0  0.000571 -1.220256 -1.153879\n",
      "1  1.000000  2.000000       NaN\n",
      "2       NaN  4.000000       NaN\n",
      "3  1.000000  2.000000  3.000000\n",
      "----------------------------------------------------------------------------------------------------\n",
      "0    0.000571\n",
      "1    1.000000\n",
      "2         NaN\n",
      "3    1.000000\n",
      "Name: 0, dtype: float64\n",
      "0   -1.220256\n",
      "1    2.000000\n",
      "2    4.000000\n",
      "3    2.000000\n",
      "Name: 1, dtype: float64\n",
      "0   -1.153879\n",
      "1         NaN\n",
      "2         NaN\n",
      "3    3.000000\n",
      "Name: 2, dtype: float64\n"
     ]
    }
   ],
   "source": [
    "# 均值，中位数，众数填充\n",
    "# 给零列的空值填为-100，按特征（按列）去填充\n",
    "print(df_data.iloc[:, 0].fillna(-100.))\n",
    "print(\"-\" * 100)\n",
    "print(df_data)\n",
    "print(\"-\" * 100)\n",
    "# 依次拿每一行\n",
    "for i in df_data.columns:\n",
    "    print(df_data.loc[:, i])"
   ],
   "metadata": {
    "collapsed": false,
    "pycharm": {
     "name": "#%%\n"
    }
   }
  },
  {
   "cell_type": "code",
   "execution_count": 48,
   "outputs": [
    {
     "name": "stdout",
     "output_type": "stream",
     "text": [
      "          0         1         2\n",
      "0  0.000571 -1.220256 -1.153879\n",
      "1  1.000000  2.000000  0.923061\n",
      "2       NaN  4.000000  0.923061\n",
      "3  1.000000  2.000000  3.000000\n"
     ]
    }
   ],
   "source": [
    "# df_data.iloc[:, 0].fillna(-100., inplace=True) # inplace = True表示直接修改df_data，但是inplace不推荐使用\n",
    "\n",
    "df_data.iloc[:, 2] = df_data.iloc[:, 2].fillna(df_data.iloc[:, 2].mean())  # 用均值填充空值\n",
    "print(df_data)"
   ],
   "metadata": {
    "collapsed": false,
    "pycharm": {
     "name": "#%%\n"
    }
   }
  }
 ],
 "metadata": {
  "kernelspec": {
   "display_name": "Python 3",
   "language": "python",
   "name": "python3"
  },
  "language_info": {
   "codemirror_mode": {
    "name": "ipython",
    "version": 2
   },
   "file_extension": ".py",
   "mimetype": "text/x-python",
   "name": "python",
   "nbconvert_exporter": "python",
   "pygments_lexer": "ipython2",
   "version": "2.7.6"
  }
 },
 "nbformat": 4,
 "nbformat_minor": 0
}